{
 "cells": [
  {
   "cell_type": "code",
   "execution_count": 1,
   "metadata": {},
   "outputs": [],
   "source": [
    "import dash \n",
    "from dash import html , dcc\n",
    "from dash.html.H1 import H1\n",
    "import plotly.express as px \n",
    "import pandas as pd\n",
    "from dash.dependencies import Input , Output , State\n",
    "from dash import dcc"
   ]
  },
  {
   "cell_type": "code",
   "execution_count": 2,
   "metadata": {},
   "outputs": [],
   "source": [
    "df = px.data.gapminder()\n",
    "fig = px.scatter(df[df['year'] == 2007], x = 'gdpPercap' , y = 'lifeExp' , size= \"pop\" , color = 'continent'\n",
    "           ,log_x = True, hover_name = 'country', template = 'plotly_white'\n",
    "           ,width = 900, height = 700, symbol = 'continent')"
   ]
  },
  {
   "cell_type": "code",
   "execution_count": 3,
   "metadata": {},
   "outputs": [],
   "source": [
    "app = dash.Dash(__name__, external_stylesheets=['https://codepen.io/chriddyp/pen/bWlwgP.css'])"
   ]
  },
  {
   "cell_type": "code",
   "execution_count": 4,
   "metadata": {},
   "outputs": [],
   "source": [
    "# app.layout = html.Div([\n",
    "#     html.H1('My first Dashboard!!!!!', style = {'color':'red','backgroundColor':'yellow','fontsize':40,'textAlign':'center'}),\n",
    "#      html.Div([\n",
    "#          html.Div([\n",
    "#              html.H1('my first graph'),\n",
    "#              dcc.Graph(id='mygraph1', figure=fig)\n",
    "             \n",
    "             \n",
    "#          ],className='six columns'),\n",
    "         \n",
    "         \n",
    "#          html.Div('Div2',className='six columns')\n",
    "#      ])\n",
    "\n",
    "# ],className='row')"
   ]
  },
  {
   "cell_type": "code",
   "execution_count": 5,
   "metadata": {},
   "outputs": [],
   "source": [
    "# Making Dashbourd using dictionaries and lists\n",
    "# app.layout = html.Div([\n",
    "#     html.H1('My Second DashBoard!! ', style= {'color': 'blue',  'backgroundColor': 'yellow', \n",
    "#                                               'fontSize' : 40, 'textAlign':'center'}),\n",
    "#     html.Div([\n",
    "        \n",
    "#         html.Div([\n",
    "#             html.H1('My first graph'),\n",
    "#             #make a graph\n",
    "#             dcc.Graph(id='mygraph1', figure = {\n",
    "#                 'data': \n",
    "#                 [{'type':'bar','x':[1,2,3,4,5],'y':[10,20,30,40,50]},\n",
    "#                  {'type':'line','x':[1,2,3,4,5],'y':[10,60,50,40,60]}],\n",
    "#                 'layout': {'title':'My Chart', 'xaxis':{'title': 'x axis'}}\n",
    "#             })\n",
    "#         ] , className=\"six columns\"),\n",
    "# #className=\"six columns\" because the dcc file contain 12 columns and if i want to get two one it divide 12/2=6\n",
    "#         html.Div('Div2', className=\"six columns\"),\n",
    "       \n",
    "    \n",
    "# ])\n",
    "# ],className=\"row\")"
   ]
  },
  {
   "cell_type": "code",
   "execution_count": 6,
   "metadata": {},
   "outputs": [],
   "source": [
    "# # Making Dashbourd using Plotly\n",
    "# app.layout = html.Div([\n",
    "#     html.H1('My Second DashBoard!! ', style= {'color': 'blue',  'backgroundColor': 'yellow', \n",
    "#                                               'fontSize' : 40, 'textAlign':'center'}),\n",
    "#     html.Div([\n",
    "        \n",
    "#         html.Div([\n",
    "#             html.H1('My first graph'),\n",
    "#             #make a graph\n",
    "#             dcc.Graph(id='mygraph1', figure = fig)\n",
    "#         ] , className=\"six columns\"),\n",
    "# #className=\"six columns\" because the dcc file contain 12 columns and if i want to get two one it divide 12/2=6\n",
    "#         html.Div('Div2', className=\"six columns\"),\n",
    "       \n",
    "    \n",
    "# ])\n",
    "# ],className=\"row\")"
   ]
  },
  {
   "cell_type": "code",
   "execution_count": 7,
   "metadata": {},
   "outputs": [],
   "source": [
    "#Making text box\n",
    "app.layout = html.Div([\n",
    "#    dcc.Input(id='myimput', \n",
    "#              value='initial value', \n",
    "#              placeholder='type your text here', \n",
    "#              type='text'),\n",
    "    html.Div([\n",
    "        html.H1('My first graph'),\n",
    "        dcc.Graph(id='mygraph1', figure = fig)\n",
    "    ], className='six columns'),\n",
    "    \n",
    "    html.Div([\n",
    "        html.H1('My second graph'),\n",
    "        dcc.Graph(id='mygraph2', figure = fig)\n",
    "    ], className='six columns'),\n",
    "    \n",
    "    html.Button('Submit', id= 'button',n_clicks=0),\n",
    "    dcc.Slider(\n",
    "        id='my_slider',\n",
    "        min=df['year'].min(),\n",
    "        max=df['year'].max(),\n",
    "        value=df['year'].min(),\n",
    "        marks={str(years):str(years) for years in df['year'].unique()}\n",
    "    ),\n",
    "    \n",
    "    dcc.Dropdown(\n",
    "        id='my_Dropdown',\n",
    "        options=[\n",
    "            {'label': str(continent),'value': str(continent)} for continent in df['continent'].unique()\n",
    "\n",
    "        ],\n",
    "        value= None,\n",
    "        placeholder='Choose a continent ..... '\n",
    "    )\n",
    "     ])\n",
    "@app.callback(\n",
    "    Output('mygraph1', 'figure'),\n",
    "    Output('mygraph2', 'figure'),\n",
    "    Input('button', 'n_clicks'),\n",
    "    State('my_slider', 'value'),\n",
    "    State('my_Dropdown', 'value')\n",
    ")\n",
    "\n",
    "def update_my_Div(n_clicks,input_value1,input_value2):\n",
    "    if input_value2 == None :\n",
    "        fig1 = px.scatter(df[df['year'] == input_value1] \n",
    "                         ,x = 'gdpPercap' , y = 'lifeExp' , size= \"pop\" , color = 'continent')\n",
    "        fig2 = px.scatter(df[df['year'] == input_value1] \n",
    "                         ,x = 'gdpPercap' , y = 'lifeExp' , size= \"pop\" , color = 'continent')\n",
    "    else :\n",
    "        fig1 = px.scatter(df[(df['year'] == input_value1) & (df['year'] == input_value1)]\n",
    "                         ,x = 'gdpPercap' , y = 'lifeExp' , size= \"pop\" , color = 'continent')\n",
    "        fig2 = px.scatter(df[(df['year'] == input_value1) & (df['year'] == input_value1)]\n",
    "                         ,x = 'gdpPercap' , y = 'lifeExp' , size= \"pop\" , color = 'continent')\n",
    "    return fig1 ,fig2 "
   ]
  },
  {
   "cell_type": "code",
   "execution_count": 8,
   "metadata": {},
   "outputs": [
    {
     "data": {
      "text/html": [
       "\n",
       "        <iframe\n",
       "            width=\"100%\"\n",
       "            height=\"650\"\n",
       "            src=\"http://127.0.0.1:8050/\"\n",
       "            frameborder=\"0\"\n",
       "            allowfullscreen\n",
       "            \n",
       "        ></iframe>\n",
       "        "
      ],
      "text/plain": [
       "<IPython.lib.display.IFrame at 0x1e1b6f4d010>"
      ]
     },
     "metadata": {},
     "output_type": "display_data"
    }
   ],
   "source": [
    "app.run_server()"
   ]
  },
  {
   "cell_type": "code",
   "execution_count": null,
   "metadata": {},
   "outputs": [],
   "source": []
  }
 ],
 "metadata": {
  "kernelspec": {
   "display_name": "base",
   "language": "python",
   "name": "python3"
  },
  "language_info": {
   "codemirror_mode": {
    "name": "ipython",
    "version": 3
   },
   "file_extension": ".py",
   "mimetype": "text/x-python",
   "name": "python",
   "nbconvert_exporter": "python",
   "pygments_lexer": "ipython3",
   "version": "3.11.7"
  }
 },
 "nbformat": 4,
 "nbformat_minor": 4
}
