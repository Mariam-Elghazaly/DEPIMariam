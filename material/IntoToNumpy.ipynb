{
 "cells": [
  {
   "cell_type": "markdown",
   "metadata": {
    "id": "a8aP0LsHrCMF"
   },
   "source": [
    "# Introduction to Numpy (Numerical Python)\n",
    "This notebook introduces the main functions of Numpy library essential for coding linear algebra problems in Python\n",
    "\n",
    "One dimensional array (Vectors)\n",
    "1. Creating 1D array (vector)\n",
    "2. Retrieving the array information\n",
    "3. Basic vector (elementwise) operations\n",
    "4. Indexing, Slicing and Iterating One dimensional array\n",
    "5. Operations on vectors\n",
    "\n",
    "Two dimensional arrays (Matrices)\n",
    "1. Creating a matrix\n",
    "2. Operations on matrices\n",
    "3. Printing multidimensional array\n",
    "4. Indexing, Slicing and Iterating two dimensional array\n",
    "5. Changing the shape of a multidimensional array\n",
    "\n",
    "Examples credit to Numpy documentation: https://numpy.org/doc/stable/user/quickstart.html"
   ]
  },
  {
   "cell_type": "code",
   "execution_count": 2,
   "metadata": {},
   "outputs": [],
   "source": [
    "#pip install numpy"
   ]
  },
  {
   "cell_type": "code",
   "execution_count": 4,
   "metadata": {
    "id": "yrITNUDfrCMK"
   },
   "outputs": [],
   "source": [
    "#First you need to import the numpy library\n",
    "import numpy as np  \n",
    "#from numpy import *"
   ]
  },
  {
   "cell_type": "markdown",
   "metadata": {
    "id": "69IxjhoKrCML"
   },
   "source": [
    "## Creating 1D array (vector)\n",
    "There are several ways to create a numpy array. \n",
    "\n",
    "I. Create an array from scratch specifying all the elements in advance:"
   ]
  },
  {
   "cell_type": "code",
   "execution_count": 5,
   "metadata": {},
   "outputs": [
    {
     "name": "stdout",
     "output_type": "stream",
     "text": [
      "[  1.      2.      3.      4.     10.     20.254 100.   ]\n"
     ]
    },
    {
     "data": {
      "text/plain": [
       "numpy.ndarray"
      ]
     },
     "execution_count": 5,
     "metadata": {},
     "output_type": "execute_result"
    }
   ],
   "source": [
    "q = np.array([1,2,3,4,10,20.254,100])\n",
    "print(q)\n",
    "type(q)"
   ]
  },
  {
   "cell_type": "code",
   "execution_count": 5,
   "metadata": {},
   "outputs": [
    {
     "data": {
      "text/plain": [
       "dtype('float64')"
      ]
     },
     "execution_count": 5,
     "metadata": {},
     "output_type": "execute_result"
    }
   ],
   "source": [
    "q.dtype"
   ]
  },
  {
   "cell_type": "code",
   "execution_count": 6,
   "metadata": {
    "id": "aEEG3UFzrCML"
   },
   "outputs": [
    {
     "name": "stdout",
     "output_type": "stream",
     "text": [
      "[2 3 4]\n",
      "[ 10  20  70 100   2   3   4]\n"
     ]
    }
   ],
   "source": [
    "a1 = np.array([2,3,4])  \n",
    "print(a1)\n",
    "#we can pass a list, tuple or any array-like object into the array() method, and it will be converted into an ndarray\n",
    "a = np.array([10, 20, 70 , 100 , 2 ,3 , 4])\n",
    "print(a)"
   ]
  },
  {
   "cell_type": "code",
   "execution_count": 7,
   "metadata": {
    "colab": {
     "base_uri": "https://localhost:8080/"
    },
    "id": "_MT7T9YGrCMM",
    "outputId": "3bdb8496-ea6e-47a3-a89c-b3cd992ee4cd"
   },
   "outputs": [
    {
     "name": "stdout",
     "output_type": "stream",
     "text": [
      "[ 10  20  70 100   2   3   4]\n"
     ]
    }
   ],
   "source": [
    "print(a)"
   ]
  },
  {
   "cell_type": "code",
   "execution_count": 8,
   "metadata": {},
   "outputs": [
    {
     "data": {
      "text/plain": [
       "dtype('int32')"
      ]
     },
     "execution_count": 8,
     "metadata": {},
     "output_type": "execute_result"
    }
   ],
   "source": [
    "a.dtype"
   ]
  },
  {
   "cell_type": "code",
   "execution_count": 9,
   "metadata": {
    "colab": {
     "base_uri": "https://localhost:8080/"
    },
    "id": "U9ugnXMNrCMN",
    "outputId": "1ee29721-5847-4f45-f0f5-7f85fdf32205"
   },
   "outputs": [
    {
     "data": {
      "text/plain": [
       "numpy.ndarray"
      ]
     },
     "execution_count": 9,
     "metadata": {},
     "output_type": "execute_result"
    }
   ],
   "source": [
    "type(a)"
   ]
  },
  {
   "cell_type": "code",
   "execution_count": 10,
   "metadata": {
    "id": "pywktWtwrCMO"
   },
   "outputs": [],
   "source": [
    "b = np.array([1.2, 3, 5.1, 6.6,101.1])"
   ]
  },
  {
   "cell_type": "code",
   "execution_count": 11,
   "metadata": {
    "colab": {
     "base_uri": "https://localhost:8080/"
    },
    "id": "sS_pOeQerCMO",
    "outputId": "1d5d88e8-d010-459e-e6dd-3762d4bca427"
   },
   "outputs": [
    {
     "data": {
      "text/plain": [
       "dtype('float64')"
      ]
     },
     "execution_count": 11,
     "metadata": {},
     "output_type": "execute_result"
    }
   ],
   "source": [
    "b.dtype"
   ]
  },
  {
   "cell_type": "markdown",
   "metadata": {
    "id": "Stt7vQAerCMO"
   },
   "source": [
    "II. Creating arrays using built in methods"
   ]
  },
  {
   "cell_type": "code",
   "execution_count": 12,
   "metadata": {
    "colab": {
     "base_uri": "https://localhost:8080/"
    },
    "id": "UoAxOrOyrCMP",
    "outputId": "9f14eac2-ea19-4299-ca44-7a3fbb022e6d"
   },
   "outputs": [
    {
     "name": "stdout",
     "output_type": "stream",
     "text": [
      "[0 0 0 0 0 0]\n"
     ]
    },
    {
     "data": {
      "text/plain": [
       "dtype('int32')"
      ]
     },
     "execution_count": 12,
     "metadata": {},
     "output_type": "execute_result"
    }
   ],
   "source": [
    "zerovector = np.zeros((6,), dtype=\"int32\")\n",
    "print(zerovector)\n",
    "zerovector.dtype"
   ]
  },
  {
   "cell_type": "code",
   "execution_count": 13,
   "metadata": {},
   "outputs": [
    {
     "data": {
      "text/plain": [
       "numpy.ndarray"
      ]
     },
     "execution_count": 13,
     "metadata": {},
     "output_type": "execute_result"
    }
   ],
   "source": [
    "type(zerovector)"
   ]
  },
  {
   "cell_type": "code",
   "execution_count": 14,
   "metadata": {
    "colab": {
     "base_uri": "https://localhost:8080/"
    },
    "id": "2rZTcgc0rCMP",
    "outputId": "407fbe72-414d-4193-b877-3f355a9887b1"
   },
   "outputs": [
    {
     "name": "stdout",
     "output_type": "stream",
     "text": [
      "[1 1 1 1 1 1 1 1 1 1]\n"
     ]
    }
   ],
   "source": [
    "print(np.ones(10, dtype = int))"
   ]
  },
  {
   "cell_type": "code",
   "execution_count": 15,
   "metadata": {},
   "outputs": [
    {
     "data": {
      "text/plain": [
       "(6,)"
      ]
     },
     "execution_count": 15,
     "metadata": {},
     "output_type": "execute_result"
    }
   ],
   "source": [
    "zerovector.shape"
   ]
  },
  {
   "cell_type": "code",
   "execution_count": 16,
   "metadata": {
    "colab": {
     "base_uri": "https://localhost:8080/"
    },
    "id": "RbgO8rR9rCMQ",
    "outputId": "74683238-f27b-42e7-982c-116f2214956b"
   },
   "outputs": [
    {
     "name": "stdout",
     "output_type": "stream",
     "text": [
      "[2.12199579e-314 2.12199579e-314 2.12199579e-314 2.12199579e-314\n",
      " 2.12199579e-314]\n"
     ]
    }
   ],
   "source": [
    "# Create an empty array with 5 elements(from the memory)\n",
    "print(np.empty((5,)))"
   ]
  },
  {
   "cell_type": "markdown",
   "metadata": {
    "id": "Vb_35LD0rCMQ"
   },
   "source": [
    "You can also create an array of evenly spaced content by specifying the first number, last number, and the step size."
   ]
  },
  {
   "cell_type": "code",
   "execution_count": 17,
   "metadata": {
    "id": "pNPPMTHMrCMQ"
   },
   "outputs": [
    {
     "data": {
      "text/plain": [
       "array([10, 15, 20, 25])"
      ]
     },
     "execution_count": 17,
     "metadata": {},
     "output_type": "execute_result"
    }
   ],
   "source": [
    "A = np.arange(10, 30, 5) #the same as range function(start , end+1 , step)\n",
    "A"
   ]
  },
  {
   "cell_type": "code",
   "execution_count": 18,
   "metadata": {},
   "outputs": [
    {
     "name": "stdout",
     "output_type": "stream",
     "text": [
      "[0 1 2 3 4 5 6 7 8 9]\n"
     ]
    }
   ],
   "source": [
    "r = np.arange(10)  #(0,10,1)\n",
    "print(r)"
   ]
  },
  {
   "cell_type": "code",
   "execution_count": 19,
   "metadata": {},
   "outputs": [],
   "source": [
    "#[0 0.3 0.6 0.9 1.2 1.5 1.8 ]"
   ]
  },
  {
   "cell_type": "code",
   "execution_count": 20,
   "metadata": {
    "id": "iOmuH_-NrCMR"
   },
   "outputs": [
    {
     "data": {
      "text/plain": [
       "array([0. , 0.3, 0.6, 0.9, 1.2, 1.5, 1.8])"
      ]
     },
     "execution_count": 20,
     "metadata": {},
     "output_type": "execute_result"
    }
   ],
   "source": [
    "B = np.arange(0, 2, 0.3)\n",
    "B"
   ]
  },
  {
   "cell_type": "markdown",
   "metadata": {
    "id": "-F1_qp7_rCMR"
   },
   "source": [
    "It is generally not possible to predict the number of elements obtained\n",
    "It is usually better to use the function \"linspace\" that receives as an argument the number of elements that we want, instead of the step.It creates an array with values that are spaced linearly in a specified interval:"
   ]
  },
  {
   "cell_type": "code",
   "execution_count": 21,
   "metadata": {
    "colab": {
     "base_uri": "https://localhost:8080/"
    },
    "id": "nI02tvEsrCMS",
    "outputId": "8e3ec5c1-e58a-41ad-e60a-4d23000a6159"
   },
   "outputs": [
    {
     "data": {
      "text/plain": [
       "array([0.  , 0.25, 0.5 , 0.75, 1.  , 1.25, 1.5 , 1.75, 2.  ])"
      ]
     },
     "execution_count": 21,
     "metadata": {},
     "output_type": "execute_result"
    }
   ],
   "source": [
    "x= np.linspace(0, 2, num=9) #(start, end , number of elements)\n",
    "x"
   ]
  },
  {
   "cell_type": "code",
   "execution_count": 22,
   "metadata": {},
   "outputs": [
    {
     "name": "stdout",
     "output_type": "stream",
     "text": [
      "[10. 20. 30. 40. 50.]\n"
     ]
    }
   ],
   "source": [
    "w = np.linspace(10, 50, 5)\n",
    "print(w)"
   ]
  },
  {
   "cell_type": "code",
   "execution_count": 23,
   "metadata": {
    "scrolled": true
   },
   "outputs": [
    {
     "data": {
      "text/plain": [
       "array([10.        , 10.40816327, 10.81632653, 11.2244898 , 11.63265306,\n",
       "       12.04081633, 12.44897959, 12.85714286, 13.26530612, 13.67346939,\n",
       "       14.08163265, 14.48979592, 14.89795918, 15.30612245, 15.71428571,\n",
       "       16.12244898, 16.53061224, 16.93877551, 17.34693878, 17.75510204,\n",
       "       18.16326531, 18.57142857, 18.97959184, 19.3877551 , 19.79591837,\n",
       "       20.20408163, 20.6122449 , 21.02040816, 21.42857143, 21.83673469,\n",
       "       22.24489796, 22.65306122, 23.06122449, 23.46938776, 23.87755102,\n",
       "       24.28571429, 24.69387755, 25.10204082, 25.51020408, 25.91836735,\n",
       "       26.32653061, 26.73469388, 27.14285714, 27.55102041, 27.95918367,\n",
       "       28.36734694, 28.7755102 , 29.18367347, 29.59183673, 30.        ])"
      ]
     },
     "execution_count": 23,
     "metadata": {},
     "output_type": "execute_result"
    }
   ],
   "source": [
    "np.linspace(10 ,30) #number of elements = 50"
   ]
  },
  {
   "cell_type": "code",
   "execution_count": 24,
   "metadata": {},
   "outputs": [
    {
     "data": {
      "text/plain": [
       "array([ 1, 10, 19, 28, 37, 46, 55, 64, 73, 82, 91])"
      ]
     },
     "execution_count": 24,
     "metadata": {},
     "output_type": "execute_result"
    }
   ],
   "source": [
    "np.arange(1,100,9)"
   ]
  },
  {
   "cell_type": "code",
   "execution_count": 25,
   "metadata": {},
   "outputs": [
    {
     "data": {
      "text/plain": [
       "array([  1.   ,  13.375,  25.75 ,  38.125,  50.5  ,  62.875,  75.25 ,\n",
       "        87.625, 100.   ])"
      ]
     },
     "execution_count": 25,
     "metadata": {},
     "output_type": "execute_result"
    }
   ],
   "source": [
    "np.linspace(1,100,9)"
   ]
  },
  {
   "cell_type": "code",
   "execution_count": 26,
   "metadata": {},
   "outputs": [
    {
     "data": {
      "text/plain": [
       "array([10., 14., 18., 22., 26., 30.])"
      ]
     },
     "execution_count": 26,
     "metadata": {},
     "output_type": "execute_result"
    }
   ],
   "source": [
    "np.linspace( 10, 30, 6 )"
   ]
  },
  {
   "cell_type": "code",
   "execution_count": 27,
   "metadata": {},
   "outputs": [
    {
     "data": {
      "text/plain": [
       "array([], dtype=int32)"
      ]
     },
     "execution_count": 27,
     "metadata": {},
     "output_type": "execute_result"
    }
   ],
   "source": [
    "np.arange(1,30,-1)"
   ]
  },
  {
   "cell_type": "code",
   "execution_count": 28,
   "metadata": {},
   "outputs": [
    {
     "data": {
      "text/plain": [
       "array([30, 29, 28, 27, 26, 25, 24, 23, 22, 21, 20, 19, 18, 17, 16, 15, 14,\n",
       "       13, 12, 11, 10,  9,  8,  7,  6,  5,  4,  3])"
      ]
     },
     "execution_count": 28,
     "metadata": {},
     "output_type": "execute_result"
    }
   ],
   "source": [
    "np.arange(30,2,-1)"
   ]
  },
  {
   "cell_type": "markdown",
   "metadata": {},
   "source": [
    "# 10, 60 , 6"
   ]
  },
  {
   "cell_type": "code",
   "execution_count": 29,
   "metadata": {},
   "outputs": [
    {
     "name": "stdout",
     "output_type": "stream",
     "text": [
      "[10 16 22 28 34 40 46 52 58]\n",
      "[10. 20. 30. 40. 50. 60.]\n"
     ]
    }
   ],
   "source": [
    "print(np.arange(10,60,6))  #16 \n",
    "print(np.linspace(10,60,6))"
   ]
  },
  {
   "cell_type": "markdown",
   "metadata": {
    "id": "Nk5JEdtWrCMT"
   },
   "source": [
    "These are sorted arrays but it this is not the case you can use np.sort() to sort it"
   ]
  },
  {
   "cell_type": "markdown",
   "metadata": {
    "id": "FLpbDnljrCMT"
   },
   "source": [
    "III. Creating an array by combining other arrays"
   ]
  },
  {
   "cell_type": "code",
   "execution_count": 30,
   "metadata": {
    "id": "mHx6bv35rCMT"
   },
   "outputs": [],
   "source": [
    "a = np.array([1, 2, 3, 4])\n",
    "b = np.array([5, 6, 7, 8])"
   ]
  },
  {
   "cell_type": "code",
   "execution_count": 31,
   "metadata": {
    "colab": {
     "base_uri": "https://localhost:8080/"
    },
    "id": "1B61oQaTrCMU",
    "outputId": "04ed5b66-806a-43d0-ce7b-4c1b52ef0d56"
   },
   "outputs": [
    {
     "name": "stdout",
     "output_type": "stream",
     "text": [
      "[1 2 3 4 5 6 7 8]\n"
     ]
    }
   ],
   "source": [
    "conc = np.concatenate([a,b])\n",
    "print(conc)"
   ]
  },
  {
   "cell_type": "markdown",
   "metadata": {
    "id": "OEQJz1cCrCMU"
   },
   "source": [
    "## Retrieving the array information\n",
    "Getting information about the numpy aray size and content"
   ]
  },
  {
   "cell_type": "code",
   "execution_count": 32,
   "metadata": {},
   "outputs": [
    {
     "data": {
      "text/plain": [
       "array([1, 2, 3, 4])"
      ]
     },
     "execution_count": 32,
     "metadata": {},
     "output_type": "execute_result"
    }
   ],
   "source": [
    "a"
   ]
  },
  {
   "cell_type": "code",
   "execution_count": 33,
   "metadata": {
    "colab": {
     "base_uri": "https://localhost:8080/"
    },
    "id": "xT_nmMPorCMV",
    "outputId": "3a830f05-7790-4ef0-d0f0-3ad59d300cf9"
   },
   "outputs": [
    {
     "data": {
      "text/plain": [
       "4"
      ]
     },
     "execution_count": 33,
     "metadata": {},
     "output_type": "execute_result"
    }
   ],
   "source": [
    "a.size   #returns the total number of elements of the array. This is equal to the product of the elements of shape."
   ]
  },
  {
   "cell_type": "code",
   "execution_count": 34,
   "metadata": {
    "colab": {
     "base_uri": "https://localhost:8080/"
    },
    "id": "P8ZXm4d2rCMV",
    "outputId": "dca0f8e2-98ca-4466-a693-5548444f2fe8"
   },
   "outputs": [
    {
     "data": {
      "text/plain": [
       "1"
      ]
     },
     "execution_count": 34,
     "metadata": {},
     "output_type": "execute_result"
    }
   ],
   "source": [
    "a.ndim   #returns the number of dimensions of the array"
   ]
  },
  {
   "cell_type": "code",
   "execution_count": 35,
   "metadata": {
    "colab": {
     "base_uri": "https://localhost:8080/"
    },
    "id": "sgEzw03jrCMW",
    "outputId": "09f4353d-db58-4f3c-9eda-8ec8891d0615"
   },
   "outputs": [
    {
     "data": {
      "text/plain": [
       "(4,)"
      ]
     },
     "execution_count": 35,
     "metadata": {},
     "output_type": "execute_result"
    }
   ],
   "source": [
    "a.shape   #returns the size of the array in each dimension"
   ]
  },
  {
   "cell_type": "code",
   "execution_count": 36,
   "metadata": {},
   "outputs": [
    {
     "name": "stdout",
     "output_type": "stream",
     "text": [
      "[5 6 7 8]\n"
     ]
    },
    {
     "data": {
      "text/plain": [
       "(4,)"
      ]
     },
     "execution_count": 36,
     "metadata": {},
     "output_type": "execute_result"
    }
   ],
   "source": [
    "print(b)\n",
    "b.shape"
   ]
  },
  {
   "cell_type": "code",
   "execution_count": 37,
   "metadata": {
    "colab": {
     "base_uri": "https://localhost:8080/"
    },
    "id": "FZlnNGuVrCMW",
    "outputId": "ab3d774f-e128-4cbb-f11f-7330d6cbc79e"
   },
   "outputs": [
    {
     "data": {
      "text/plain": [
       "dtype('int32')"
      ]
     },
     "execution_count": 37,
     "metadata": {},
     "output_type": "execute_result"
    }
   ],
   "source": [
    "a.dtype   #returns the type of the elements in the array"
   ]
  },
  {
   "cell_type": "markdown",
   "metadata": {
    "id": "e_hbd_8rrCMX"
   },
   "source": [
    "Creating row and column vectors"
   ]
  },
  {
   "cell_type": "code",
   "execution_count": 38,
   "metadata": {
    "colab": {
     "base_uri": "https://localhost:8080/"
    },
    "id": "f7W6YV8DrCMX",
    "outputId": "1f5e3181-d2b1-4cf0-c898-e5b19d4600c8"
   },
   "outputs": [
    {
     "name": "stdout",
     "output_type": "stream",
     "text": [
      "(6,)\n",
      "[1 2 3 4 5 6]\n"
     ]
    }
   ],
   "source": [
    "a = np.array([1, 2, 3, 4, 5, 6])\n",
    "print(a.shape)\n",
    "print(a)"
   ]
  },
  {
   "cell_type": "code",
   "execution_count": 39,
   "metadata": {},
   "outputs": [
    {
     "data": {
      "text/plain": [
       "array([1, 2, 3, 4, 5, 6])"
      ]
     },
     "execution_count": 39,
     "metadata": {},
     "output_type": "execute_result"
    }
   ],
   "source": [
    "# [number of rows , number of columns]\n",
    "a"
   ]
  },
  {
   "cell_type": "code",
   "execution_count": 40,
   "metadata": {
    "colab": {
     "base_uri": "https://localhost:8080/"
    },
    "id": "W-BAySNUrCMX",
    "outputId": "8d15cb21-6032-448d-ac1b-6d95183b528b",
    "scrolled": true
   },
   "outputs": [
    {
     "name": "stdout",
     "output_type": "stream",
     "text": [
      "(6,)\n",
      "[1 2 3 4 5 6]\n",
      "[[1 2 3 4 5 6]]\n",
      "(1, 6)\n"
     ]
    }
   ],
   "source": [
    "#converting into row matrix or row vector\n",
    "a = np.array([1, 2, 3, 4, 5, 6])\n",
    "row_vector = a[np.newaxis , : ] #[rows , columns] ,,, : means that retrieve all the elements\n",
    "print(a.shape)\n",
    "print(a)\n",
    "print(row_vector)  #matrix  2D ,, row matrix (1 , 6) 1x6\n",
    "print(row_vector.shape)"
   ]
  },
  {
   "cell_type": "code",
   "execution_count": 41,
   "metadata": {
    "colab": {
     "base_uri": "https://localhost:8080/"
    },
    "id": "-xSgxOMrrCMX",
    "outputId": "b292d8c7-eb97-4440-da29-b1dd53d38c28",
    "scrolled": true
   },
   "outputs": [
    {
     "name": "stdout",
     "output_type": "stream",
     "text": [
      "(6,)\n",
      "[1 2 3 4 5 6]\n",
      "[[1]\n",
      " [2]\n",
      " [3]\n",
      " [4]\n",
      " [5]\n",
      " [6]]\n",
      "(6, 1)\n"
     ]
    }
   ],
   "source": [
    "#converting into column matrix or column vector\n",
    "col_vector = a[ : , np.newaxis ]\n",
    "print(a.shape)\n",
    "print(a)\n",
    "print(col_vector)\n",
    "print(col_vector.shape)"
   ]
  },
  {
   "cell_type": "code",
   "execution_count": 42,
   "metadata": {},
   "outputs": [],
   "source": [
    "# axis = 0      ------> row\n",
    "# axis = 1      ------> column"
   ]
  },
  {
   "cell_type": "code",
   "execution_count": 43,
   "metadata": {
    "colab": {
     "base_uri": "https://localhost:8080/"
    },
    "id": "x-Fz1AAYrCMY",
    "outputId": "e9742e23-296c-4ac2-f3f0-3dd390df169a"
   },
   "outputs": [
    {
     "name": "stdout",
     "output_type": "stream",
     "text": [
      "[1 2 3 4 5 6]\n",
      "[[1]\n",
      " [2]\n",
      " [3]\n",
      " [4]\n",
      " [5]\n",
      " [6]]\n"
     ]
    },
    {
     "data": {
      "text/plain": [
       "(6, 1)"
      ]
     },
     "execution_count": 43,
     "metadata": {},
     "output_type": "execute_result"
    }
   ],
   "source": [
    "column_vector1 = np.expand_dims(a, axis=1)\n",
    "print(a)\n",
    "print(column_vector1)\n",
    "column_vector1.shape"
   ]
  },
  {
   "cell_type": "code",
   "execution_count": 44,
   "metadata": {
    "colab": {
     "base_uri": "https://localhost:8080/"
    },
    "id": "V1zO4SlJrCMY",
    "outputId": "d9caef80-8d75-4c0c-be94-396a4b92dfa9"
   },
   "outputs": [
    {
     "name": "stdout",
     "output_type": "stream",
     "text": [
      "(1, 6)\n",
      "[[1 2 3 4 5 6]]\n"
     ]
    }
   ],
   "source": [
    "row_vector1 = np.expand_dims(a, axis=0)\n",
    "print(row_vector1.shape)\n",
    "print(row_vector1)"
   ]
  },
  {
   "cell_type": "markdown",
   "metadata": {
    "id": "nWFzezggrCMY"
   },
   "source": [
    "There are some methods of manipulating 1D array for better codeing, see (unique, transpose, flip, )"
   ]
  },
  {
   "cell_type": "markdown",
   "metadata": {
    "id": "ka_mPzigrCMZ"
   },
   "source": [
    "## Basic vector operations"
   ]
  },
  {
   "cell_type": "code",
   "execution_count": 45,
   "metadata": {
    "colab": {
     "base_uri": "https://localhost:8080/"
    },
    "id": "hJlazjBYrCMZ",
    "outputId": "356973c7-32a7-409f-c9d6-749ffa131f63"
   },
   "outputs": [
    {
     "name": "stdout",
     "output_type": "stream",
     "text": [
      "[20 30 40 50]\n",
      "[0 1 2 3]\n",
      "[0 1 4 9]\n",
      "[200 300 400 500]\n",
      "[ True  True False False]\n"
     ]
    }
   ],
   "source": [
    "a = np.array([20,30,40,50])\n",
    "b = np.arange(4)\n",
    "print(a)\n",
    "print(b)\n",
    "\n",
    "b = b**2               # Squaring vector elements\n",
    "print(b)\n",
    "\n",
    "d = 10*a           # muliplication with a scalar\n",
    "print(d)\n",
    "\n",
    "print(a < 35)        # Logical operations"
   ]
  },
  {
   "cell_type": "markdown",
   "metadata": {
    "id": "Z1eON6sMrCMZ"
   },
   "source": [
    "NumPy provides familiar mathematical functions such as sin, cos, and exp, etc. called \"Universal functions\""
   ]
  },
  {
   "cell_type": "code",
   "execution_count": 46,
   "metadata": {
    "colab": {
     "base_uri": "https://localhost:8080/"
    },
    "id": "KTRZO3D0rCMZ",
    "outputId": "90c1522c-a87d-4480-ff7e-dc3ee1989daa"
   },
   "outputs": [
    {
     "name": "stdout",
     "output_type": "stream",
     "text": [
      "[0 1 2]\n",
      "[1.         2.71828183 7.3890561 ]\n",
      "[0.         1.         1.41421356]\n",
      "[0.         0.84147098 0.90929743]\n"
     ]
    }
   ],
   "source": [
    "B = np.arange(3)\n",
    "print(B)\n",
    "\n",
    "print(np.exp(B)) \n",
    "\n",
    "print(np.sqrt(B))\n",
    "\n",
    "print(np.sin(B))   "
   ]
  },
  {
   "cell_type": "markdown",
   "metadata": {
    "id": "EZ4CUoKIrCMa"
   },
   "source": [
    "Try these functions as well:\n",
    "\n",
    "all, any, apply_along_axis, argmax, argmin, argsort, average, bincount, ceil, clip, conj, corrcoef, cov, cross, cumprod, cumsum, diff, dot, floor, inner, invert, lexsort, max, maximum, mean, median, min, minimum, nonzero, outer, prod, re, round, sort, std, sum, trace, transpose, var, vdot, vectorize, where\n",
    "\n"
   ]
  },
  {
   "cell_type": "markdown",
   "metadata": {
    "id": "D7DiD-I-rCMa"
   },
   "source": [
    "## Indexing, Slicing and Iterating One dimensional array"
   ]
  },
  {
   "cell_type": "code",
   "execution_count": 47,
   "metadata": {},
   "outputs": [
    {
     "name": "stdout",
     "output_type": "stream",
     "text": [
      "[  0   1   8  27  64 125 216 343 512 729]\n"
     ]
    }
   ],
   "source": [
    "a = np.arange(10)**3\n",
    "print(a)"
   ]
  },
  {
   "cell_type": "markdown",
   "metadata": {},
   "source": [
    "[ 0   1   8 ]\n",
    "\n",
    "[ 8  27  64 125 216 ]\n",
    "\n",
    "[ 216 343 512 729 ]"
   ]
  },
  {
   "cell_type": "code",
   "execution_count": 48,
   "metadata": {},
   "outputs": [
    {
     "name": "stdout",
     "output_type": "stream",
     "text": [
      "[  0   1   8  27  64 125 216 343 512 729]\n",
      "64\n",
      "[ 64 216 512]\n",
      "[ 64 125 216 343 512]\n",
      "[ 64 125 216 343]\n",
      "[ 64 125 216 343]\n",
      "[  0   8  64 216]\n",
      "[729 512 343 216 125  64  27   8   1   0]\n"
     ]
    }
   ],
   "source": [
    "a = np.arange(10)**3\n",
    "print(a)\n",
    "print(a[4])\n",
    "\n",
    "print(a[4:9:2])\n",
    "print(a[-6:-1])\n",
    "print(a[-6:-2])\n",
    "\n",
    "print(a[4:8])\n",
    "print(a[0:8:2])\n",
    "print(a[::-1])"
   ]
  },
  {
   "cell_type": "code",
   "execution_count": 49,
   "metadata": {},
   "outputs": [
    {
     "name": "stdout",
     "output_type": "stream",
     "text": [
      "[0 1 8]\n",
      "[343 512 729]\n",
      "[0 1 8]\n",
      "[343 512 729]\n",
      "[  8  27  64 125 216 343]\n",
      "[  8  27  64 125 216 343]\n",
      "[729 512 343 216 125  64  27   8   1   0]\n",
      "[ 0  8 64]\n"
     ]
    }
   ],
   "source": [
    "print(a[:3])\n",
    "print(a[7:])\n",
    "print(a[:-7])\n",
    "print(a[-3:])\n",
    "print(a[2:8])\n",
    "print(a[-8:-2])\n",
    "print(a[::-1])\n",
    "print(a[:6:2])"
   ]
  },
  {
   "cell_type": "code",
   "execution_count": 50,
   "metadata": {
    "colab": {
     "base_uri": "https://localhost:8080/"
    },
    "id": "nShRJBaFrCMa",
    "outputId": "c0947b90-a130-4f7a-85c3-c7db338cf631"
   },
   "outputs": [
    {
     "name": "stdout",
     "output_type": "stream",
     "text": [
      "8\n",
      "[ 0 27]\n",
      "[ 8 27 64]\n",
      "[ 27  64 125 216 343 512]\n",
      "[ 0  8 64]\n",
      "[343 512 729]\n"
     ]
    }
   ],
   "source": [
    "a= np.arange(10)**3\n",
    "print(a[2])\n",
    "print(a[:6:3])\n",
    "print(a[2:5])\n",
    "print(a[-7:-1])\n",
    "print(a[:6:2])\n",
    "print(a[-3:])"
   ]
  },
  {
   "cell_type": "code",
   "execution_count": 51,
   "metadata": {
    "colab": {
     "base_uri": "https://localhost:8080/"
    },
    "id": "JHhakqP1rCMb",
    "outputId": "7eb3e3c0-c4fe-455e-de8d-70118397f7c6"
   },
   "outputs": [
    {
     "name": "stdout",
     "output_type": "stream",
     "text": [
      "[ 0  8 64]\n",
      "[1000    1 1000   27 1000  125]\n",
      "[1000    1 1000   27 1000  125  216  343  512  729]\n"
     ]
    }
   ],
   "source": [
    "# equivalent to a[0:6:2] = 1000;\n",
    "# from start to position 6, exclusive, set every 2nd element to 1000\n",
    "print(a[0:6:2])\n",
    "a[0:6:2] = 1000\n",
    "print(a[:6])\n",
    "print(a)"
   ]
  },
  {
   "cell_type": "code",
   "execution_count": 52,
   "metadata": {
    "colab": {
     "base_uri": "https://localhost:8080/"
    },
    "id": "B4fcEpjTrCMb",
    "outputId": "6f0d23cc-6b20-49e1-8310-ff3546966418"
   },
   "outputs": [
    {
     "name": "stdout",
     "output_type": "stream",
     "text": [
      "[ 729  512  343  216  125 1000   27 1000    1 1000]\n",
      "[1000    1 1000   27 1000  125  216  343  512  729]\n",
      "9.999999999999998\n",
      "1.0\n",
      "9.999999999999998\n",
      "3.0\n",
      "9.999999999999998\n",
      "5.0\n",
      "5.999999999999999\n",
      "6.999999999999999\n",
      "7.999999999999999\n",
      "8.999999999999998\n"
     ]
    }
   ],
   "source": [
    "print(a[ : :-1])                                # reversed a\n",
    "print(a)\n",
    "      \n",
    "for i in a:\n",
    "    print(i**(1/3))"
   ]
  },
  {
   "cell_type": "markdown",
   "metadata": {
    "id": "03yG3FuVrCMb"
   },
   "source": [
    "## Operations on vectors\n"
   ]
  },
  {
   "cell_type": "code",
   "execution_count": 53,
   "metadata": {
    "colab": {
     "base_uri": "https://localhost:8080/"
    },
    "id": "VpwPDZ2lrCMb",
    "outputId": "98430064-9361-4e86-d822-0b8bbfa94f29"
   },
   "outputs": [
    {
     "name": "stdout",
     "output_type": "stream",
     "text": [
      "[ 8. 10.]\n",
      "[ 8. 10.]\n"
     ]
    }
   ],
   "source": [
    "x = np.array([1,2], dtype = float)\n",
    "y = np.array([7,8], dtype = float)\n",
    "\n",
    "#sum; both produce the array\n",
    "print(x + y)\n",
    "print(np.add(x, y))"
   ]
  },
  {
   "cell_type": "code",
   "execution_count": 54,
   "metadata": {
    "colab": {
     "base_uri": "https://localhost:8080/"
    },
    "id": "3rnZrpDZrCMc",
    "outputId": "5ed0d1e3-fde9-4adf-97b0-d0c6f8b46400"
   },
   "outputs": [
    {
     "name": "stdout",
     "output_type": "stream",
     "text": [
      "[-6. -6.]\n",
      "[-6. -6.]\n"
     ]
    }
   ],
   "source": [
    "#difference; both produce the array\n",
    "print(x - y)\n",
    "print(np.subtract(x, y))"
   ]
  },
  {
   "cell_type": "code",
   "execution_count": 55,
   "metadata": {
    "colab": {
     "base_uri": "https://localhost:8080/"
    },
    "id": "zaxP5GuGrCMc",
    "outputId": "980103ae-6601-4add-ee11-55e9157d84e6"
   },
   "outputs": [
    {
     "name": "stdout",
     "output_type": "stream",
     "text": [
      "[ 7. 16.]\n",
      "[ 7. 16.]\n"
     ]
    }
   ],
   "source": [
    "#Elementwise product; both produce the array\n",
    "print(x * y)\n",
    "print(np.multiply(x, y))"
   ]
  },
  {
   "cell_type": "code",
   "execution_count": 56,
   "metadata": {
    "colab": {
     "base_uri": "https://localhost:8080/"
    },
    "id": "8duSa-2GrCMc",
    "outputId": "69be73a7-dd63-4e55-be45-c51daa72efc5"
   },
   "outputs": [
    {
     "name": "stdout",
     "output_type": "stream",
     "text": [
      "[0.14285714 0.25      ]\n",
      "[0.14285714 0.25      ]\n"
     ]
    }
   ],
   "source": [
    "#division\n",
    "print(x / y)\n",
    "print(np.divide(x, y))"
   ]
  },
  {
   "cell_type": "code",
   "execution_count": 57,
   "metadata": {
    "colab": {
     "base_uri": "https://localhost:8080/"
    },
    "id": "MAeQHqS9rCMd",
    "outputId": "2252680d-df16-497f-834c-05ca7d707686"
   },
   "outputs": [
    {
     "name": "stdout",
     "output_type": "stream",
     "text": [
      "23.0\n",
      "23.0\n",
      "23.0\n"
     ]
    }
   ],
   "source": [
    "# vectors dot product (x1*y1)+(x2*y2)\n",
    "print(x.dot(y))\n",
    "print(np.dot(x, y))\n",
    "print(x @ y)"
   ]
  },
  {
   "cell_type": "code",
   "execution_count": 58,
   "metadata": {
    "colab": {
     "base_uri": "https://localhost:8080/"
    },
    "id": "9AsmEURkrCMd",
    "outputId": "40ae77a3-e128-45c0-bc4f-da7193ed75b9"
   },
   "outputs": [
    {
     "name": "stdout",
     "output_type": "stream",
     "text": [
      "[1. 2.]\n",
      "[1.         1.41421356]\n",
      "[1.         1.41421356]\n"
     ]
    }
   ],
   "source": [
    "print(x)\n",
    "print(x**0.5)\n",
    "print(np.sqrt(x))"
   ]
  },
  {
   "cell_type": "code",
   "execution_count": 59,
   "metadata": {
    "colab": {
     "base_uri": "https://localhost:8080/"
    },
    "id": "8Cqez4UmrCMe",
    "outputId": "c762220d-8ff8-4e80-a434-898ce799a1dc"
   },
   "outputs": [
    {
     "name": "stdout",
     "output_type": "stream",
     "text": [
      "[1 2 3 9] [6 9 2 7]\n"
     ]
    },
    {
     "data": {
      "text/plain": [
       "array([6, 9, 3, 9])"
      ]
     },
     "execution_count": 59,
     "metadata": {},
     "output_type": "execute_result"
    }
   ],
   "source": [
    "#maximum\n",
    "w = np.array([1,2,3,9])\n",
    "y = np.array([6,9,2,7])\n",
    "print(w,y)\n",
    "np.maximum(w, y) "
   ]
  },
  {
   "cell_type": "code",
   "execution_count": 60,
   "metadata": {},
   "outputs": [
    {
     "data": {
      "text/plain": [
       "array([1, 2, 2, 7])"
      ]
     },
     "execution_count": 60,
     "metadata": {},
     "output_type": "execute_result"
    }
   ],
   "source": [
    "np.minimum(w,y)"
   ]
  },
  {
   "cell_type": "markdown",
   "metadata": {
    "id": "vKQGPbjFrCMe"
   },
   "source": [
    "# Plotting vectors\n",
    "Plot a 2D field of arrows.\n",
    "\n",
    "Call signature: quiver([X, Y], U, V, [C], **kw)\n",
    "\n",
    "X, Y define the arrow locations, U, V define the arrow directions, and C optionally sets the color.\n",
    "\n",
    "More details: https://www.tutorialspoint.com/matplotlib/matplotlib_quiver_plot.htm\n",
    "https://matplotlib.org/stable/api/_as_gen/matplotlib.pyplot.quiver.html"
   ]
  },
  {
   "cell_type": "code",
   "execution_count": 61,
   "metadata": {
    "colab": {
     "base_uri": "https://localhost:8080/",
     "height": 265
    },
    "id": "Yp9Hq9kdrCMf",
    "outputId": "1bc740b0-6e61-4e54-bf93-d27e3ab938e6"
   },
   "outputs": [
    {
     "data": {
      "text/plain": [
       "\"\\nimport matplotlib.pyplot as plt\\n\\nV = np.array([[3,5], [0,5], [4,0],[3,3],[0,2]])\\norigin = np.array([[0,0,0,0,0],[0,0,0,0,0]]) # origin point\\n\\nplt.quiver(*origin, V[:,0], V[:,1], color=['r','b','g','y','m'], scale=15)  #x-data V[:,0] #y-data V[:,1]\\nplt.show()\\n\""
      ]
     },
     "execution_count": 61,
     "metadata": {},
     "output_type": "execute_result"
    }
   ],
   "source": [
    "'''\n",
    "import matplotlib.pyplot as plt\n",
    "\n",
    "V = np.array([[3,5], [0,5], [4,0],[3,3],[0,2]])\n",
    "origin = np.array([[0,0,0,0,0],[0,0,0,0,0]]) # origin point\n",
    "\n",
    "plt.quiver(*origin, V[:,0], V[:,1], color=['r','b','g','y','m'], scale=15)  #x-data V[:,0] #y-data V[:,1]\n",
    "plt.show()\n",
    "'''"
   ]
  },
  {
   "cell_type": "markdown",
   "metadata": {
    "id": "JYl-rhlGrCMf"
   },
   "source": [
    "## Creating a matrix\n",
    "\n",
    "I. Creating a matrix specifying all the elements in advance\n",
    "\n",
    "\"array\" transforms sequences of sequences into two-dimensional arrays, sequences of sequences of sequences into three-dimensional arrays, and so on."
   ]
  },
  {
   "cell_type": "code",
   "execution_count": 62,
   "metadata": {
    "scrolled": true
   },
   "outputs": [
    {
     "name": "stdout",
     "output_type": "stream",
     "text": [
      "[[1 2 3]\n",
      " [4 5 6]\n",
      " [7 8 9]]\n",
      "(3, 3)\n",
      "[[1 2 3]\n",
      " [4 5 6]\n",
      " [7 8 9]]\n"
     ]
    }
   ],
   "source": [
    "m1 = np.array([(1,2,3),(4,5,6),(7,8,9)])\n",
    "print(m1)\n",
    "m = np.array([[1,2,3],\n",
    "              [4,5,6],\n",
    "              [7,8,9]])\n",
    "print(m.shape)\n",
    "print(m)"
   ]
  },
  {
   "cell_type": "code",
   "execution_count": 63,
   "metadata": {
    "colab": {
     "base_uri": "https://localhost:8080/"
    },
    "id": "T8Y_ng5rrCMf",
    "outputId": "35858c2e-6a3a-481d-faa5-643b58200326"
   },
   "outputs": [
    {
     "name": "stdout",
     "output_type": "stream",
     "text": [
      "[[1.5 2.  3. ]\n",
      " [4.  5.  6. ]]\n"
     ]
    },
    {
     "data": {
      "text/plain": [
       "(2, 3)"
      ]
     },
     "execution_count": 63,
     "metadata": {},
     "output_type": "execute_result"
    }
   ],
   "source": [
    "M1 = np.array([(1.5,2,3), (4,5,6)])\n",
    "print(M1)\n",
    "M = np.array([[1,2,3],\n",
    "              [4,5,6]])\n",
    "M.shape"
   ]
  },
  {
   "cell_type": "markdown",
   "metadata": {
    "id": "IDHwapvorCMf"
   },
   "source": [
    "II. Creating a matrix by stacking vectors\n",
    "\n",
    "In general, for arrays with more than two dimensions, hstack stacks along their second axes, vstack stacks along their first axes\n",
    "See also (column_stack, concatenate, c_, r_, hsplit, vsplit)"
   ]
  },
  {
   "cell_type": "code",
   "execution_count": 64,
   "metadata": {},
   "outputs": [
    {
     "name": "stdout",
     "output_type": "stream",
     "text": [
      "Generator(PCG64)\n",
      "[0.51182162 0.9504637  0.14415961 0.94864945]\n",
      "[51. 95. 14. 94.]\n"
     ]
    }
   ],
   "source": [
    "rg = np.random.default_rng(1) \n",
    "print(rg)\n",
    "M = rg.random((4,))\n",
    "print(M)\n",
    "vector = np.floor(100*M) # multipy by 10 to convert the numbers to integers #random creates vectors its value from 0 to 1  \n",
    "print(vector)"
   ]
  },
  {
   "cell_type": "code",
   "execution_count": 65,
   "metadata": {
    "colab": {
     "base_uri": "https://localhost:8080/"
    },
    "id": "wCHQmYzIrCMg",
    "outputId": "eca03f92-daca-4141-bd46-e68d5fa928f8"
   },
   "outputs": [
    {
     "name": "stdout",
     "output_type": "stream",
     "text": [
      "[[51. 95.]\n",
      " [14. 94.]]\n",
      "_________________________________________________________\n",
      "[[3. 4.]\n",
      " [8. 4.]]\n",
      "_________________________________________________________\n",
      "[[51. 95.]\n",
      " [14. 94.]\n",
      " [ 3.  4.]\n",
      " [ 8.  4.]]\n",
      "_________________________________________________________\n",
      "[[51. 95.]\n",
      " [14. 94.]\n",
      " [ 3.  4.]\n",
      " [ 8.  4.]]\n",
      "_________________________________________________________\n",
      "[[51. 95.  3.  4.]\n",
      " [14. 94.  8.  4.]]\n",
      "_________________________________________________________\n",
      "[[51. 95.  3.  4.]\n",
      " [14. 94.  8.  4.]]\n"
     ]
    }
   ],
   "source": [
    "rg = np.random.default_rng(1)     # create instance of default random number generator\n",
    "#print(rg)\n",
    "#rfloat = rg.random((2,2))\n",
    "#print(rfloat)\n",
    "a = np.floor(100 * rg.random((2,2))) # multipy by 10 to convert the numbers to integers #random creates vectors its value from 0 to 1  \n",
    "print(a)\n",
    "print(\"_________________________________________________________\")\n",
    "b = np.floor(10 * rg.random((2,2)))\n",
    "print(b)\n",
    "print(\"_________________________________________________________\")\n",
    "print(np.vstack((a,b)))\n",
    "print(\"_________________________________________________________\")\n",
    "print(np.concatenate((a,b))) #equvalant to vstack ,,, axis = 0\n",
    "print(\"_________________________________________________________\")\n",
    "print(np.concatenate((a,b), axis = 1)) #equvalant to hstack\n",
    "print(\"_________________________________________________________\")\n",
    "print(np.hstack((a,b)))\n"
   ]
  },
  {
   "cell_type": "markdown",
   "metadata": {
    "id": "qmhX0VwxrCMg"
   },
   "source": [
    "III. Creating matrices using built in methods\n",
    "\n",
    "See (arange, array, copy, empty, empty_like, eye, fromfile, fromfunction, identity, linspace, logspace, mgrid, ogrid, ones, ones_like, r_, zeros, zeros_like)\n",
    "\n",
    "We will consider only the methods ccreating the commonly known matrices"
   ]
  },
  {
   "cell_type": "markdown",
   "metadata": {
    "id": "4u508bCDrCMg"
   },
   "source": [
    "## Common matrices\n",
    "\n",
    "The function zeros creates an array full of zeros, \n",
    "the function ones creates an array full of ones, and \n",
    "the function empty creates an array whose initial content is random and depends on the state of the memory. By default, the dtype of the created array is float64."
   ]
  },
  {
   "cell_type": "code",
   "execution_count": 66,
   "metadata": {
    "colab": {
     "base_uri": "https://localhost:8080/"
    },
    "id": "-U-aQfxfrCMg",
    "outputId": "abf9b01e-f103-4801-b684-27f7125a0c50"
   },
   "outputs": [
    {
     "name": "stdout",
     "output_type": "stream",
     "text": [
      "[[0. 0.]\n",
      " [0. 0.]\n",
      " [0. 0.]]\n"
     ]
    }
   ],
   "source": [
    "print(np.zeros((3,2)))"
   ]
  },
  {
   "cell_type": "code",
   "execution_count": 67,
   "metadata": {
    "colab": {
     "base_uri": "https://localhost:8080/"
    },
    "id": "5OSuEXPjrCMh",
    "outputId": "17e66865-1c86-454f-fd1b-b610a817bdf6"
   },
   "outputs": [
    {
     "data": {
      "text/plain": [
       "array([[[1., 1., 1.],\n",
       "        [1., 1., 1.],\n",
       "        [1., 1., 1.]],\n",
       "\n",
       "       [[1., 1., 1.],\n",
       "        [1., 1., 1.],\n",
       "        [1., 1., 1.]],\n",
       "\n",
       "       [[1., 1., 1.],\n",
       "        [1., 1., 1.],\n",
       "        [1., 1., 1.]]])"
      ]
     },
     "execution_count": 67,
     "metadata": {},
     "output_type": "execute_result"
    }
   ],
   "source": [
    "np.ones((3,3,3))                # dtype can also be specified"
   ]
  },
  {
   "cell_type": "code",
   "execution_count": 68,
   "metadata": {},
   "outputs": [
    {
     "data": {
      "text/plain": [
       "array([[1., 0., 0., 0., 0.],\n",
       "       [0., 1., 0., 0., 0.],\n",
       "       [0., 0., 1., 0., 0.],\n",
       "       [0., 0., 0., 1., 0.],\n",
       "       [0., 0., 0., 0., 1.]])"
      ]
     },
     "execution_count": 68,
     "metadata": {},
     "output_type": "execute_result"
    }
   ],
   "source": [
    "np.identity(5)"
   ]
  },
  {
   "attachments": {
    "1%20sJnlq20_ApdNKLHoT5gs7g.png": {
     "image/png": "[encoded data removed]"
    }
   },
   "cell_type": "markdown",
   "metadata": {},
   "source": [
    "![1%20sJnlq20_ApdNKLHoT5gs7g.png](attachment:1%20sJnlq20_ApdNKLHoT5gs7g.png)"
   ]
  },
  {
   "cell_type": "code",
   "execution_count": 69,
   "metadata": {
    "colab": {
     "base_uri": "https://localhost:8080/"
    },
    "id": "qPcU-btqrCMh",
    "outputId": "eaa7f451-ee03-4dc3-fede-c0592c20c566"
   },
   "outputs": [
    {
     "data": {
      "text/plain": [
       "array([[0., 0., 0.],\n",
       "       [0., 0., 0.]])"
      ]
     },
     "execution_count": 69,
     "metadata": {},
     "output_type": "execute_result"
    }
   ],
   "source": [
    "np.empty( (2,3) )                                 # uninitialized"
   ]
  },
  {
   "cell_type": "markdown",
   "metadata": {
    "id": "tcJ9k1DurCMh"
   },
   "source": [
    "## Operations on matrices"
   ]
  },
  {
   "cell_type": "markdown",
   "metadata": {
    "id": "uITbEYN7rCMh"
   },
   "source": [
    "### Elementwise computations"
   ]
  },
  {
   "cell_type": "code",
   "execution_count": 70,
   "metadata": {
    "colab": {
     "base_uri": "https://localhost:8080/"
    },
    "id": "wCVlGngDrCMi",
    "outputId": "5f6fa7dd-7138-4010-c597-5fd500c71928"
   },
   "outputs": [
    {
     "name": "stdout",
     "output_type": "stream",
     "text": [
      "[[ 6.  8.]\n",
      " [10. 12.]]\n",
      "[[ 6.  8.]\n",
      " [10. 12.]]\n"
     ]
    }
   ],
   "source": [
    "x = np.array([[1,2],[3,4]], dtype=float)\n",
    "y = np.array([[5,6],[7,8]], dtype=float)\n",
    "\n",
    "# Elementwise sum; both produce the array\n",
    "print(x + y)\n",
    "print(np.add(x, y))"
   ]
  },
  {
   "cell_type": "code",
   "execution_count": 71,
   "metadata": {
    "colab": {
     "base_uri": "https://localhost:8080/"
    },
    "id": "JJEQiX3ErCMi",
    "outputId": "8f317e56-1896-41c7-cd15-0ba7c3bd2cc3"
   },
   "outputs": [
    {
     "name": "stdout",
     "output_type": "stream",
     "text": [
      "[[-4. -4.]\n",
      " [-4. -4.]]\n",
      "[[-4. -4.]\n",
      " [-4. -4.]]\n"
     ]
    }
   ],
   "source": [
    "# Elementwise difference; both produce the array\n",
    "print(x - y)\n",
    "print(np.subtract(x, y))"
   ]
  },
  {
   "cell_type": "code",
   "execution_count": 72,
   "metadata": {
    "colab": {
     "base_uri": "https://localhost:8080/"
    },
    "id": "2MowAtffrCMi",
    "outputId": "1505fbef-7d1b-40c1-998b-defb80bb3cd4"
   },
   "outputs": [
    {
     "name": "stdout",
     "output_type": "stream",
     "text": [
      "[[ 5. 12.]\n",
      " [21. 32.]]\n",
      "[[ 5. 12.]\n",
      " [21. 32.]]\n"
     ]
    }
   ],
   "source": [
    "# Elementwise product; both produce the array\n",
    "print(x * y)\n",
    "print(np.multiply(x, y))"
   ]
  },
  {
   "cell_type": "code",
   "execution_count": 73,
   "metadata": {
    "colab": {
     "base_uri": "https://localhost:8080/"
    },
    "id": "KlT7nZJUrCMj",
    "outputId": "ca964a90-362a-4889-9d37-a27441db4510"
   },
   "outputs": [
    {
     "name": "stdout",
     "output_type": "stream",
     "text": [
      "[[0.2        0.33333333]\n",
      " [0.42857143 0.5       ]]\n",
      "[[0.2        0.33333333]\n",
      " [0.42857143 0.5       ]]\n"
     ]
    }
   ],
   "source": [
    "# Elementwise division; both produce the array\n",
    "# [[ 0.2         0.33333333]\n",
    "#  [ 0.42857143  0.5       ]]\n",
    "print(x / y)\n",
    "print(np.divide(x, y))"
   ]
  },
  {
   "cell_type": "code",
   "execution_count": 74,
   "metadata": {
    "colab": {
     "base_uri": "https://localhost:8080/"
    },
    "id": "41mrVTkRrCMj",
    "outputId": "9c539671-78d5-4247-b824-e71e2d370a81"
   },
   "outputs": [
    {
     "name": "stdout",
     "output_type": "stream",
     "text": [
      "[[1.         1.41421356]\n",
      " [1.73205081 2.        ]]\n"
     ]
    }
   ],
   "source": [
    "# Elementwise square root; produces the array\n",
    "# [[ 1.          1.41421356]\n",
    "#  [ 1.73205081  2.        ]]\n",
    "print(np.sqrt(x))"
   ]
  },
  {
   "cell_type": "markdown",
   "metadata": {
    "id": "1wrNgYlirCMj"
   },
   "source": [
    "### Matrix transpose"
   ]
  },
  {
   "cell_type": "code",
   "execution_count": 75,
   "metadata": {
    "colab": {
     "base_uri": "https://localhost:8080/"
    },
    "id": "x5KiWpzSrCMk",
    "outputId": "a4baa81d-5d51-44ec-dc21-f2f4d1a056ec"
   },
   "outputs": [
    {
     "name": "stdout",
     "output_type": "stream",
     "text": [
      "[[6. 9. 4. 9.]\n",
      " [7. 2. 6. 2.]\n",
      " [3. 8. 7. 7.]]\n",
      "(3, 4)\n",
      "[[6. 7. 3.]\n",
      " [9. 2. 8.]\n",
      " [4. 6. 7.]\n",
      " [9. 2. 7.]]\n",
      "(4, 3)\n"
     ]
    }
   ],
   "source": [
    "rg = np.random.default_rng()     # create instance of default random number generator\n",
    "a = np.floor(10*rg.random((3,4)))\n",
    "print(a)\n",
    "print(a.shape)\n",
    "print(a.T)  # returns the array, transposed\n",
    "print(a.T.shape)"
   ]
  },
  {
   "cell_type": "markdown",
   "metadata": {
    "id": "tvCoGKnXrCMk"
   },
   "source": [
    "### Matrix multiplication: "
   ]
  },
  {
   "cell_type": "code",
   "execution_count": 76,
   "metadata": {
    "colab": {
     "base_uri": "https://localhost:8080/"
    },
    "id": "m1voR93qrCMk",
    "outputId": "875f9070-57af-4d98-e9cf-c3e089dc6733"
   },
   "outputs": [
    {
     "name": "stdout",
     "output_type": "stream",
     "text": [
      "(2, 3)\n",
      "(3, 3)\n",
      "[[82 88 91]\n",
      " [89 86 77]]\n",
      "____________________________________________________\n",
      "[[82 88 91]\n",
      " [89 86 77]]\n",
      "____________________________________________________\n",
      "[[82 88 91]\n",
      " [89 86 77]]\n",
      "____________________________________________________\n",
      "[[82 88 91]\n",
      " [89 86 77]]\n"
     ]
    }
   ],
   "source": [
    "A = np.array( [[2,10,3],\n",
    "               [4,5,6]] )\n",
    "print(A.shape)\n",
    "B = np.array( [[1,8,9],\n",
    "               [5,6,7],\n",
    "               [10,4,1]] )\n",
    "print(B.shape)\n",
    "q = np.matmul(A,B)   \n",
    "print(q)\n",
    "print(\"____________________________________________________\")\n",
    "w = np.dot(A,B)\n",
    "print(w)\n",
    "print(\"____________________________________________________\")\n",
    "print(A @ B)                       # matrix product\n",
    "print(\"____________________________________________________\")\n",
    "print(A.dot(B))                    # another matrix product"
   ]
  },
  {
   "cell_type": "markdown",
   "metadata": {
    "id": "Q8HCsIQXrCMl"
   },
   "source": [
    "### More computation functions"
   ]
  },
  {
   "cell_type": "code",
   "execution_count": 77,
   "metadata": {
    "colab": {
     "base_uri": "https://localhost:8080/"
    },
    "id": "bmfuo_MUrCMl",
    "outputId": "9a2b5a96-2b6d-469a-9de4-2d08f4df4966"
   },
   "outputs": [
    {
     "name": "stdout",
     "output_type": "stream",
     "text": [
      "Generator(PCG64)\n",
      "[[6. 5. 1.]\n",
      " [4. 9. 8.]]\n",
      "33.0\n",
      "____________________________________________________\n",
      "1.0\n",
      "____________________________________________________\n",
      "9.0\n"
     ]
    }
   ],
   "source": [
    "rg = np.random.default_rng()     # create instance of default random number generator\n",
    "print(rg)\n",
    "M = np.floor(10*rg.random((2,3)))\n",
    "print(M)\n",
    "print(M.sum())\n",
    "print(\"____________________________________________________\")\n",
    "print(M.min())\n",
    "print(\"____________________________________________________\")\n",
    "print(M.max())"
   ]
  },
  {
   "cell_type": "code",
   "execution_count": 78,
   "metadata": {},
   "outputs": [
    {
     "name": "stdout",
     "output_type": "stream",
     "text": [
      "[[6. 5. 1.]\n",
      " [4. 9. 8.]]\n"
     ]
    }
   ],
   "source": [
    "print(M)"
   ]
  },
  {
   "cell_type": "code",
   "execution_count": 79,
   "metadata": {
    "colab": {
     "base_uri": "https://localhost:8080/"
    },
    "id": "Ak4m4P0YrCMm",
    "outputId": "23725314-74c6-4673-fb18-d5a006e69500"
   },
   "outputs": [
    {
     "name": "stdout",
     "output_type": "stream",
     "text": [
      "[10. 14.  9.]\n",
      "____________________________________________________\n",
      "[12. 21.]\n",
      "____________________________________________________\n",
      "[1. 4.]\n",
      "____________________________________________________\n",
      "[6. 9. 8.]\n"
     ]
    }
   ],
   "source": [
    "print(M.sum(axis=0))                             # sum of each column\n",
    "print(\"____________________________________________________\")\n",
    "print(M.sum(axis=1))                            # sum of each row\n",
    "print(\"____________________________________________________\")\n",
    "print(M.min(axis=1))                            # min of each row\n",
    "print(\"____________________________________________________\")\n",
    "print(M.max(axis=0))                            # max of each column"
   ]
  },
  {
   "cell_type": "markdown",
   "metadata": {
    "id": "3zz2wwUQrCMm"
   },
   "source": [
    "## Printing multidimensional array\n",
    "\n",
    "It is important to know how the matrix content is arranged so you can access the right element \n",
    "When you print an array, NumPy displays it in a similar way to nested lists, but with the following layout:\n",
    "\n",
    "* the last axis is printed from left to right,\n",
    "* the second-to-last is printed from top to bottom,\n",
    "* the rest are also printed from top to bottom, with each slice separated from the next by an empty line."
   ]
  },
  {
   "cell_type": "code",
   "execution_count": 80,
   "metadata": {
    "colab": {
     "base_uri": "https://localhost:8080/"
    },
    "id": "fY76gFmQrCMm",
    "outputId": "3eff19d1-9412-4bd6-e285-35ce9fb0d048"
   },
   "outputs": [
    {
     "name": "stdout",
     "output_type": "stream",
     "text": [
      "[ 0  1  2  3  4  5  6  7  8  9 10 11 12 13 14 15 16 17 18 19 20 21 22 23]\n"
     ]
    }
   ],
   "source": [
    "a = np.arange(24)                         # 1d array\n",
    "print(a)"
   ]
  },
  {
   "cell_type": "code",
   "execution_count": 81,
   "metadata": {
    "colab": {
     "base_uri": "https://localhost:8080/"
    },
    "id": "fILOZoulrCMn",
    "outputId": "3111b893-d2ac-4e9e-ab23-07e285cde004"
   },
   "outputs": [
    {
     "name": "stdout",
     "output_type": "stream",
     "text": [
      "[[ 0  1  2  3  4  5]\n",
      " [ 6  7  8  9 10 11]\n",
      " [12 13 14 15 16 17]\n",
      " [18 19 20 21 22 23]]\n"
     ]
    }
   ],
   "source": [
    "b = np.arange(24).reshape(4,6)           # 2d array\n",
    "print(b)"
   ]
  },
  {
   "cell_type": "code",
   "execution_count": 82,
   "metadata": {
    "colab": {
     "base_uri": "https://localhost:8080/"
    },
    "id": "9HsuyBMUrCMn",
    "outputId": "2f561343-c386-48c2-cbbc-3cb4cbc13fdb"
   },
   "outputs": [
    {
     "name": "stdout",
     "output_type": "stream",
     "text": [
      "[[[ 0  1  2  3]\n",
      "  [ 4  5  6  7]\n",
      "  [ 8  9 10 11]]\n",
      "\n",
      " [[12 13 14 15]\n",
      "  [16 17 18 19]\n",
      "  [20 21 22 23]]\n",
      "\n",
      " [[24 25 26 27]\n",
      "  [28 29 30 31]\n",
      "  [32 33 34 35]]]\n"
     ]
    }
   ],
   "source": [
    "c = np.arange(36).reshape(3,3,4)         # 3d array\n",
    "print(c)"
   ]
  },
  {
   "cell_type": "markdown",
   "metadata": {
    "id": "1ouOAUQSrCMn"
   },
   "source": [
    "## Indexing, Slicing and Iterating two dimensional array"
   ]
  },
  {
   "cell_type": "code",
   "execution_count": 83,
   "metadata": {
    "colab": {
     "base_uri": "https://localhost:8080/"
    },
    "id": "8tkwiclHrCMn",
    "outputId": "8e287a5c-2402-4bbb-8a43-decab0490f6c"
   },
   "outputs": [
    {
     "name": "stdout",
     "output_type": "stream",
     "text": [
      "[[ 0  1  2  3]\n",
      " [10 11 12 13]\n",
      " [20 21 22 23]\n",
      " [30 31 32 33]\n",
      " [40 41 42 43]]\n",
      "____________________________________________________\n",
      "[[ 0  1  2  3]\n",
      " [10 11 12 13]\n",
      " [20 21 22 23]\n",
      " [30 31 32 33]\n",
      " [40 41 42 43]]\n",
      "____________________________________________________\n",
      "43\n",
      "22\n",
      "____________________________________________________\n",
      "[[32]\n",
      " [42]]\n",
      "____________________________________________________\n",
      "[[32]\n",
      " [42]]\n",
      "____________________________________________________\n",
      "[[31 32]]\n",
      "[[31 32]]\n",
      "[[32 33]\n",
      " [42 43]]\n",
      "[[32 33]\n",
      " [42 43]]\n",
      "____________________________________________________\n",
      "[[33]]\n"
     ]
    }
   ],
   "source": [
    "def f(x,y):\n",
    "    return 10*x + y                #user defined function\n",
    "\n",
    "b = np.fromfunction(f,(5,4),dtype=int) # Construct an array by executing a function over each coordinate. (Read more https://numpy.org/doc/stable/reference/generated/numpy.fromfunction.html)\n",
    "B = np.fromfunction(lambda x, y : 10*x + y ,(5,4),dtype=int) \n",
    "print(b)\n",
    "print(\"____________________________________________________\")\n",
    "print(B)\n",
    "print(\"____________________________________________________\")\n",
    "print(b[4,3])\n",
    "print(b[2,2])\n",
    "print(\"____________________________________________________\")\n",
    "print(b[3:,2:3])\n",
    "print(\"____________________________________________________\")\n",
    "print(b[-2:, -2:-1])\n",
    "print(\"____________________________________________________\")\n",
    "print(b[3:4,1:3]) \n",
    "print(b[-2:-1,-3:-1])\n",
    "print(b[3:,2:])\n",
    "print(b[-2:, -2:])\n",
    "print(\"____________________________________________________\")\n",
    "print(b[3:4,3:])"
   ]
  },
  {
   "cell_type": "code",
   "execution_count": 84,
   "metadata": {},
   "outputs": [
    {
     "name": "stdout",
     "output_type": "stream",
     "text": [
      "12\n",
      "31\n",
      "23\n",
      "43\n",
      "43\n",
      "[[42 43]]\n",
      "[[10]\n",
      " [20]]\n",
      "[10 20]\n",
      "23\n",
      "[[ 0  1  2  3]\n",
      " [10 11 12 13]\n",
      " [20 21 22 23]\n",
      " [30 31 32 33]\n",
      " [40 41 42 43]]\n",
      "[[42 43]]\n",
      "[[42 43]]\n",
      "[10 20]\n",
      "[30 31 32 33]\n"
     ]
    }
   ],
   "source": [
    "print(b[1,2]) \n",
    "print(b[3,1])\n",
    "print(b[2,3]) \n",
    "print(b[4,3]) \n",
    "print(b[-1,-1]) \n",
    "print(b[4:5,2:4]) \n",
    "print(b[1:3,0:1]) \n",
    "print(b[-4:-2, -4]) \n",
    "print(b[2,3])\n",
    "print(b[0:5, ]) \n",
    "print(b[4:5, 2:4]) \n",
    "print(b[-1:, -2: ]) \n",
    "print(b[-4:-2, -4])\n",
    "print(b[3, 0:])"
   ]
  },
  {
   "cell_type": "markdown",
   "metadata": {
    "id": "sWaDME0qrCMo"
   },
   "source": [
    "When fewer indices are provided than the number of axes, the missing indices are considered complete slices:"
   ]
  },
  {
   "cell_type": "code",
   "execution_count": 85,
   "metadata": {},
   "outputs": [
    {
     "name": "stdout",
     "output_type": "stream",
     "text": [
      "[ 1 11 21 31 41]\n",
      "[ 1 11 21 31 41]\n",
      "[[10]\n",
      " [20]]\n",
      "[[42 43]]\n",
      "[42 43]\n"
     ]
    }
   ],
   "source": [
    "print(b[0:5, 1])                       # each row in the second column of b\n",
    "\n",
    "print(b[ : ,1])                        # equivalent to the previous example\n",
    "\n",
    "print(b[1:3, :1 ])   # each column in the second and third row of b\n",
    "\n",
    "print(b[4:5, 2:4 ])\n",
    "\n",
    "print(b[-1, -2 : ])"
   ]
  },
  {
   "cell_type": "code",
   "execution_count": 86,
   "metadata": {},
   "outputs": [
    {
     "name": "stdout",
     "output_type": "stream",
     "text": [
      "[[ 0  1  2  3]\n",
      " [10 11 12 13]\n",
      " [20 21 22 23]\n",
      " [30 31 32 33]\n",
      " [40 41 42 43]]\n"
     ]
    }
   ],
   "source": [
    "print(b[0:5, ]) "
   ]
  },
  {
   "cell_type": "code",
   "execution_count": 87,
   "metadata": {
    "colab": {
     "base_uri": "https://localhost:8080/"
    },
    "id": "zrxY4TQ3rCMo",
    "outputId": "c3d85624-1bd1-4acb-951a-6942237fb248"
   },
   "outputs": [
    {
     "data": {
      "text/plain": [
       "array([40, 41, 42, 43])"
      ]
     },
     "execution_count": 87,
     "metadata": {},
     "output_type": "execute_result"
    }
   ],
   "source": [
    "b[-1]"
   ]
  },
  {
   "cell_type": "code",
   "execution_count": 88,
   "metadata": {},
   "outputs": [
    {
     "data": {
      "text/plain": [
       "23"
      ]
     },
     "execution_count": 88,
     "metadata": {},
     "output_type": "execute_result"
    }
   ],
   "source": [
    "b[2,-1]"
   ]
  },
  {
   "cell_type": "code",
   "execution_count": 89,
   "metadata": {},
   "outputs": [
    {
     "data": {
      "text/plain": [
       "array([0, 1, 2, 3])"
      ]
     },
     "execution_count": 89,
     "metadata": {},
     "output_type": "execute_result"
    }
   ],
   "source": [
    "b[0]"
   ]
  },
  {
   "cell_type": "markdown",
   "metadata": {
    "id": "1ZZGpvhCrCMo"
   },
   "source": [
    "The dots (...) represent as many colons as needed to produce a complete indexing tuple. For example, if x is an array with 5 axes, then\n",
    "\n",
    "x[1,2,...] is equivalent to x[1,2,:,:,:],\n",
    "\n",
    "x[...,3] to x[:,:,:,:,3] and\n",
    "\n",
    "x[4,...,5,:] to x[4,:,:,5,:]."
   ]
  },
  {
   "cell_type": "code",
   "execution_count": 90,
   "metadata": {},
   "outputs": [
    {
     "data": {
      "text/plain": [
       "array([4, 5, 6, 7])"
      ]
     },
     "execution_count": 90,
     "metadata": {},
     "output_type": "execute_result"
    }
   ],
   "source": [
    "c[0,1,:]"
   ]
  },
  {
   "cell_type": "code",
   "execution_count": 91,
   "metadata": {
    "colab": {
     "base_uri": "https://localhost:8080/"
    },
    "id": "2gD4oZ6PrCMp",
    "outputId": "7133fa92-b4e9-41e7-a95f-03432edc5353",
    "scrolled": true
   },
   "outputs": [
    {
     "name": "stdout",
     "output_type": "stream",
     "text": [
      "110\n",
      "(2, 2, 3)\n",
      "12\n",
      "____________________________________________________\n",
      "[[  0   1   2]\n",
      " [100 101 102]]\n",
      "____________________________________________________\n",
      "112\n",
      "____________________________________________________\n",
      "13\n",
      "____________________________________________________\n",
      "100\n",
      "____________________________________________________\n",
      "[100 110]\n",
      "____________________________________________________\n",
      "[[100 101 102]\n",
      " [110 112 113]]\n",
      "____________________________________________________\n",
      "[[100 101 102]\n",
      " [110 112 113]]\n",
      "____________________________________________________\n",
      "[[  2  13]\n",
      " [102 113]]\n",
      "____________________________________________________\n",
      "[[  2  13]\n",
      " [102 113]]\n",
      "____________________________________________________\n",
      "[[ 10  12  13]\n",
      " [110 112 113]]\n"
     ]
    }
   ],
   "source": [
    "c = np.array( [[[ 0,  1,  2], [ 10, 12, 13]],              # a 3D array (two stacked 2D arrays)\n",
    "               \n",
    "               [[100,101,102], [110,112,113]]])\n",
    "                 # c[n. of channels/matrix ,n. of rows , n. of columns]\n",
    "print(c[1, 1,0])\n",
    "print(c.shape)\n",
    "print(c[0,1,1])\n",
    "print(\"____________________________________________________\")\n",
    "print(c[:,0,:])\n",
    "print(\"____________________________________________________\")\n",
    "print(c[1,1,1])\n",
    "print(\"____________________________________________________\")\n",
    "print(c[0,1,2])\n",
    "print(\"____________________________________________________\")\n",
    "print(c[1,0,0])\n",
    "print(\"____________________________________________________\")\n",
    "print(c[1,:,0])\n",
    "print(\"____________________________________________________\")\n",
    "print(c[1, :, :])\n",
    "print(\"____________________________________________________\")\n",
    "print(c[1,...])                                   # same as c[1,:,:] or c[1]\n",
    "print(\"____________________________________________________\")\n",
    "print(c[...,2])                                   # same as c[:,:,2]\n",
    "print(\"____________________________________________________\")\n",
    "print( c[:,:,2])\n",
    "print(\"____________________________________________________\")\n",
    "print(c[:,1,:])"
   ]
  },
  {
   "cell_type": "code",
   "execution_count": 92,
   "metadata": {},
   "outputs": [
    {
     "name": "stdout",
     "output_type": "stream",
     "text": [
      "[[ 0  1  2  3]\n",
      " [10 11 12 13]\n",
      " [20 21 22 23]\n",
      " [30 31 32 33]\n",
      " [40 41 42 43]]\n"
     ]
    }
   ],
   "source": [
    "print(b)"
   ]
  },
  {
   "cell_type": "markdown",
   "metadata": {
    "id": "d_AMgiBDrCMp"
   },
   "source": [
    "Read more about a-dvanced indexing and index tricks here (https://numpy.org/doc/stable/user/quickstart.html#advanced-indexing-and-index-tricks)"
   ]
  },
  {
   "cell_type": "markdown",
   "metadata": {
    "id": "F1xHnPc5rCMp"
   },
   "source": [
    "Iterating over multidimensional arrays is done with respect to the first axis:"
   ]
  },
  {
   "cell_type": "code",
   "execution_count": 93,
   "metadata": {
    "colab": {
     "base_uri": "https://localhost:8080/"
    },
    "id": "FiF57UPKrCMq",
    "outputId": "9963b476-0e0c-4933-9b6c-a0a220b753a2"
   },
   "outputs": [
    {
     "name": "stdout",
     "output_type": "stream",
     "text": [
      "[[ 0  1  2  3]\n",
      " [10 11 12 13]\n",
      " [20 21 22 23]\n",
      " [30 31 32 33]\n",
      " [40 41 42 43]]\n",
      "____________________________________________________\n",
      "[0 1 2 3]\n",
      "[10 11 12 13]\n",
      "[20 21 22 23]\n",
      "[30 31 32 33]\n",
      "[40 41 42 43]\n"
     ]
    }
   ],
   "source": [
    "print(b)\n",
    "print(\"____________________________________________________\")\n",
    "for row in b:\n",
    "    print(row)"
   ]
  },
  {
   "cell_type": "code",
   "execution_count": 94,
   "metadata": {},
   "outputs": [
    {
     "name": "stdout",
     "output_type": "stream",
     "text": [
      "[[[  0   1   2]\n",
      "  [ 10  12  13]]\n",
      "\n",
      " [[100 101 102]\n",
      "  [110 112 113]]]\n"
     ]
    }
   ],
   "source": [
    "print(c)"
   ]
  },
  {
   "cell_type": "markdown",
   "metadata": {
    "id": "ZKsncCSWrCMq"
   },
   "source": [
    " to perform an operation on each element in the array, use the flat attribute which is an iterator over all the elements of the array:"
   ]
  },
  {
   "cell_type": "code",
   "execution_count": 95,
   "metadata": {
    "colab": {
     "base_uri": "https://localhost:8080/"
    },
    "id": "f6cXz3ThrCMq",
    "outputId": "a6db5ea9-8c7b-405e-f914-3a3afcd78495"
   },
   "outputs": [
    {
     "name": "stdout",
     "output_type": "stream",
     "text": [
      "0\n",
      "1\n",
      "2\n",
      "10\n",
      "12\n",
      "13\n",
      "100\n",
      "101\n",
      "102\n",
      "110\n",
      "112\n",
      "113\n"
     ]
    }
   ],
   "source": [
    "for element in c.flat:\n",
    "    print(element)"
   ]
  },
  {
   "cell_type": "markdown",
   "metadata": {
    "id": "jwIbSPzDrCMq"
   },
   "source": [
    "## Changing the shape of a multidimensional array\n",
    "\n",
    "Not only \"flat\" function that can help changing the shape of a multidimentional array. we also have other functions like \"reshape\", \"resize\", \"ravel\""
   ]
  },
  {
   "cell_type": "code",
   "execution_count": 96,
   "metadata": {
    "colab": {
     "base_uri": "https://localhost:8080/"
    },
    "id": "7TjuVs2srCMr",
    "outputId": "4e5faafa-7aa5-47ee-97a5-1171fa71022f"
   },
   "outputs": [
    {
     "name": "stdout",
     "output_type": "stream",
     "text": [
      "[[5. 9. 1. 9.]\n",
      " [3. 4. 8. 4.]\n",
      " [5. 0. 7. 5.]]\n",
      "(3, 4)\n"
     ]
    }
   ],
   "source": [
    "rg = np.random.default_rng(1) \n",
    "M1 = np.floor(10*rg.random((3,4)))\n",
    "print(M1)\n",
    "print(M1.shape)"
   ]
  },
  {
   "cell_type": "code",
   "execution_count": 97,
   "metadata": {},
   "outputs": [
    {
     "name": "stdout",
     "output_type": "stream",
     "text": [
      "<numpy.flatiter object at 0x000001C017E78340>\n"
     ]
    }
   ],
   "source": [
    "print(M1.flat)"
   ]
  },
  {
   "cell_type": "code",
   "execution_count": 98,
   "metadata": {},
   "outputs": [
    {
     "name": "stdout",
     "output_type": "stream",
     "text": [
      "[5. 9. 1. 9. 3. 4. 8. 4. 5. 0. 7. 5.]\n"
     ]
    }
   ],
   "source": [
    "print(np.array(M1.flat))"
   ]
  },
  {
   "cell_type": "code",
   "execution_count": 99,
   "metadata": {},
   "outputs": [
    {
     "data": {
      "text/plain": [
       "array([5., 9., 1., 9., 3., 4., 8., 4., 5., 0., 7., 5.])"
      ]
     },
     "execution_count": 99,
     "metadata": {},
     "output_type": "execute_result"
    }
   ],
   "source": [
    "M1.flatten()"
   ]
  },
  {
   "cell_type": "code",
   "execution_count": 100,
   "metadata": {
    "colab": {
     "base_uri": "https://localhost:8080/"
    },
    "id": "OrMOZovfrCMr",
    "outputId": "8f10dbb2-b9cb-4134-c84e-e21e9ba111b6"
   },
   "outputs": [
    {
     "name": "stdout",
     "output_type": "stream",
     "text": [
      "[5. 9. 1. 9. 3. 4. 8. 4. 5. 0. 7. 5.]\n"
     ]
    }
   ],
   "source": [
    "print(M1.ravel()) # Return a flattened array."
   ]
  },
  {
   "cell_type": "code",
   "execution_count": 108,
   "metadata": {
    "colab": {
     "base_uri": "https://localhost:8080/"
    },
    "id": "ppPgUytkrCMr",
    "outputId": "e30a55fa-2dff-4b5a-d55c-b20ae6f17c4a"
   },
   "outputs": [
    {
     "name": "stdout",
     "output_type": "stream",
     "text": [
      "[[5. 9. 1. 9. 3. 4.]\n",
      " [8. 4. 5. 0. 7. 5.]]\n"
     ]
    },
    {
     "data": {
      "text/plain": [
       "array([[[5.],\n",
       "        [9.]],\n",
       "\n",
       "       [[1.],\n",
       "        [9.]],\n",
       "\n",
       "       [[3.],\n",
       "        [4.]],\n",
       "\n",
       "       [[8.],\n",
       "        [4.]],\n",
       "\n",
       "       [[5.],\n",
       "        [0.]],\n",
       "\n",
       "       [[7.],\n",
       "        [5.]]])"
      ]
     },
     "execution_count": 108,
     "metadata": {},
     "output_type": "execute_result"
    }
   ],
   "source": [
    "print(M1)\n",
    "M1.reshape(6,2,1)  #Returns an array containing the same data with a new shape."
   ]
  },
  {
   "cell_type": "code",
   "execution_count": 102,
   "metadata": {
    "colab": {
     "base_uri": "https://localhost:8080/"
    },
    "id": "F4g-pJlMrCMr",
    "outputId": "155d9cd7-7b30-45dc-dd87-562cdd7e31ce"
   },
   "outputs": [
    {
     "name": "stdout",
     "output_type": "stream",
     "text": [
      "[[5. 9. 1. 9.]\n",
      " [3. 4. 8. 4.]\n",
      " [5. 0. 7. 5.]]\n",
      "[[5. 9. 1.]\n",
      " [9. 3. 4.]\n",
      " [8. 4. 5.]\n",
      " [0. 7. 5.]]\n",
      "[[5. 9. 1. 9.]\n",
      " [3. 4. 8. 4.]\n",
      " [5. 0. 7. 5.]]\n"
     ]
    }
   ],
   "source": [
    "print(M1.reshape(-1,4) )  # If a dimension is given as -1 in a reshaping operation, the other dimensions are automatically\n",
    "print(M1.reshape(4,-1))\n",
    "print(M1)          # \"reshape\" function does not change the original array"
   ]
  },
  {
   "cell_type": "code",
   "execution_count": 103,
   "metadata": {
    "colab": {
     "base_uri": "https://localhost:8080/"
    },
    "id": "dGli1tdjrCMs",
    "outputId": "df939248-0e15-4e99-c227-ca06bb6108a2"
   },
   "outputs": [
    {
     "name": "stdout",
     "output_type": "stream",
     "text": [
      "[[5. 9. 1. 9. 3. 4.]\n",
      " [8. 4. 5. 0. 7. 5.]]\n"
     ]
    }
   ],
   "source": [
    "M1.resize(2,6)  # returns the array with a modified shape\n",
    "print(M1)"
   ]
  },
  {
   "cell_type": "code",
   "execution_count": 104,
   "metadata": {},
   "outputs": [
    {
     "data": {
      "text/plain": [
       "array([[5., 9., 1., 9., 3., 4., 8., 4., 5., 0.],\n",
       "       [7., 5., 5., 9., 1., 9., 3., 4., 8., 4.]])"
      ]
     },
     "execution_count": 104,
     "metadata": {},
     "output_type": "execute_result"
    }
   ],
   "source": [
    "np.resize(M1, (2,10))"
   ]
  },
  {
   "cell_type": "code",
   "execution_count": 105,
   "metadata": {},
   "outputs": [
    {
     "name": "stdout",
     "output_type": "stream",
     "text": [
      "[1 2 3 4]\n",
      "[ 1  3  6 10]\n"
     ]
    }
   ],
   "source": [
    "arr = np.array([1,2,3,4])\n",
    "print(arr)\n",
    "print(np.cumsum(arr))"
   ]
  },
  {
   "cell_type": "code",
   "execution_count": null,
   "metadata": {},
   "outputs": [],
   "source": []
  }
 ],
 "metadata": {
  "colab": {
   "collapsed_sections": [
    "OEQJz1cCrCMU",
    "ka_mPzigrCMZ",
    "D7DiD-I-rCMa",
    "03yG3FuVrCMb",
    "JYl-rhlGrCMf",
    "4u508bCDrCMg",
    "tcJ9k1DurCMh",
    "uITbEYN7rCMh",
    "1wrNgYlirCMj",
    "tvCoGKnXrCMk",
    "Q8HCsIQXrCMl",
    "3zz2wwUQrCMm",
    "1ouOAUQSrCMn",
    "jwIbSPzDrCMq"
   ],
   "name": "IntoToNumpy.ipynb",
   "provenance": []
  },
  "kernelspec": {
   "display_name": "Python 3",
   "language": "python",
   "name": "python3"
  },
  "language_info": {
   "codemirror_mode": {
    "name": "ipython",
    "version": 3
   },
   "file_extension": ".py",
   "mimetype": "text/x-python",
   "name": "python",
   "nbconvert_exporter": "python",
   "pygments_lexer": "ipython3",
   "version": "3.12.10"
  }
 },
 "nbformat": 4,
 "nbformat_minor": 4
}
