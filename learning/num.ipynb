{
 "cells": [
  {
   "cell_type": "code",
   "execution_count": 5,
   "id": "54880ae1",
   "metadata": {},
   "outputs": [],
   "source": [
    "import numpy as np"
   ]
  },
  {
   "cell_type": "markdown",
   "id": "ffea8406",
   "metadata": {},
   "source": [
    "# Basics"
   ]
  },
  {
   "cell_type": "code",
   "execution_count": 6,
   "id": "3fbc1ecd",
   "metadata": {},
   "outputs": [
    {
     "data": {
      "text/plain": [
       "array([1, 2, 3, 4, 5])"
      ]
     },
     "execution_count": 6,
     "metadata": {},
     "output_type": "execute_result"
    }
   ],
   "source": [
    "# we can declare a numpy array\n",
    "a = np.array([1, 2, 3, 4, 5]) \n",
    "a\n"
   ]
  },
  {
   "cell_type": "code",
   "execution_count": 7,
   "id": "2b3de37f",
   "metadata": {},
   "outputs": [
    {
     "name": "stdout",
     "output_type": "stream",
     "text": [
      "[1 2 3 4 5]\n"
     ]
    }
   ],
   "source": [
    "# we can declare a numpy array\n",
    "a = np.array([1, 2, 3, 4, 5]) \n",
    "print(a)\n"
   ]
  },
  {
   "cell_type": "code",
   "execution_count": 8,
   "id": "91f7f753",
   "metadata": {},
   "outputs": [
    {
     "name": "stdout",
     "output_type": "stream",
     "text": [
      "[[ 6  7  8  9 10]\n",
      " [11 12 13 14 15]]\n"
     ]
    }
   ],
   "source": [
    "b= np.array([[6, 7, 8, 9, 10],[11, 12, 13, 14, 15]])\n",
    "# here we made a 2D array where we have shape(2,5) , in math this is a matrix with 2 rows and 5 columns\n",
    "print(b)\n",
    "# look, In NumPy, a “matrix” is just a special case of an ndarray with 2 dimensions."
   ]
  },
  {
   "cell_type": "code",
   "execution_count": 9,
   "id": "386ee0f0",
   "metadata": {},
   "outputs": [
    {
     "data": {
      "text/plain": [
       "2"
      ]
     },
     "execution_count": 9,
     "metadata": {},
     "output_type": "execute_result"
    }
   ],
   "source": [
    "# to get the dimensions of the array\n",
    "b.ndim"
   ]
  },
  {
   "cell_type": "code",
   "execution_count": 10,
   "id": "51ce8dda",
   "metadata": {},
   "outputs": [
    {
     "data": {
      "text/plain": [
       "(2, 5)"
      ]
     },
     "execution_count": 10,
     "metadata": {},
     "output_type": "execute_result"
    }
   ],
   "source": [
    "# to get the shape of the array\n",
    "b.shape\n",
    "# it tells you the number of rows and columns in the array\n",
    "# in this case, it is (2, 5) which means 2 rows and 5 columns"
   ]
  },
  {
   "cell_type": "code",
   "execution_count": 11,
   "id": "5215d5ca",
   "metadata": {},
   "outputs": [
    {
     "name": "stdout",
     "output_type": "stream",
     "text": [
      "int64\n",
      "float64\n"
     ]
    }
   ],
   "source": [
    " # to get the data type of the array\n",
    "f = np.array([1.5, 2.5, 3.5, 4.5, 5.5])\n",
    "print(a.dtype)\n",
    "print(f.dtype)\n",
    "# it tells you the data type of the elements in the array\n",
    "# in this case, it is int64 which means the elements are 64-bit integers"
   ]
  },
  {
   "cell_type": "code",
   "execution_count": 12,
   "id": "95ea87ef",
   "metadata": {},
   "outputs": [
    {
     "name": "stdout",
     "output_type": "stream",
     "text": [
      "float32\n"
     ]
    },
    {
     "data": {
      "text/plain": [
       "array([1., 2., 3., 4., 5.], dtype=float32)"
      ]
     },
     "execution_count": 12,
     "metadata": {},
     "output_type": "execute_result"
    }
   ],
   "source": [
    "#if do you eant to have a specific data type, you can specify it when creating the array\n",
    "g = np.array([1, 2, 3, 4, 5], dtype=np.float32)\n",
    "print(g.dtype)\n",
    "g\n",
    "# here we specified the data type as float32, which means the elements are 32-bit floating-point numbers"
   ]
  },
  {
   "cell_type": "code",
   "execution_count": 13,
   "id": "a364f101",
   "metadata": {},
   "outputs": [
    {
     "name": "stdout",
     "output_type": "stream",
     "text": [
      "int16\n"
     ]
    }
   ],
   "source": [
    "# also when we are not taking large numbers, we can use int8, int16, int32, int64\n",
    "# and for floating point numbers, we can use float16, float32, float64\n",
    "# these are the most common data types used in NumPy arrays\n",
    "\n",
    "c= np.array([1, 2, 3, 4, 5], dtype=np.int16)\n",
    "print(c.dtype)\n",
    "# here we specified the data type as int8, which means the elements are 8-bit integers\n",
    "# this is useful when we want to save memory and we know that the values will not exceed the range of int8"
   ]
  },
  {
   "cell_type": "code",
   "execution_count": 14,
   "id": "26084aee",
   "metadata": {},
   "outputs": [
    {
     "name": "stdout",
     "output_type": "stream",
     "text": [
      "5\n"
     ]
    },
    {
     "data": {
      "text/plain": [
       "10"
      ]
     },
     "execution_count": 14,
     "metadata": {},
     "output_type": "execute_result"
    }
   ],
   "source": [
    "# get size of the array\n",
    "print(c.size)\n",
    "# it tells you the number of elements in the array\n",
    "# in this case, it is 5 which means there are 5 elements in the array\n",
    "\n",
    "# is we want to get the size of the array in bytes\n",
    "c.itemsize\n",
    "# it tells you the size of each element in the array in bytes\n",
    "# in this case, it is 1 which means each element is 2 byte\n",
    "\n",
    "# to get whole size of the array in bytes\n",
    "c.nbytes # equal to c.size * c.itemsize\n",
    "# it tells you the total size of the array in bytes\n",
    "# in this case, it is 10 which means the array takes 10 bytes of memory"
   ]
  },
  {
   "cell_type": "code",
   "execution_count": 15,
   "id": "8a8ca98d",
   "metadata": {},
   "outputs": [
    {
     "name": "stdout",
     "output_type": "stream",
     "text": [
      "[1.  2.  3.  4.5 5. ]\n",
      "['1' '2' '3' '4.5' '5']\n"
     ]
    }
   ],
   "source": [
    "# to be clear \n",
    "\n",
    "#numpy arrays are homogeneous, meaning all elements must be of the same data type.\n",
    "# so for example, you cannot have a numpy array with both integers and strings.\n",
    "\n",
    "s = np.array([1, 2, 3, 4.5 , 5])\n",
    "# this will create an array with all elements as strings, because numpy will convert the integers to float to make them homogeneous\n",
    "print(s)\n",
    "# it will print ['1' '2' '3' '4' '5'] which means all elements are strings\n",
    "\n",
    "x= np.array([1, 2, 3, 4.5 , '5'])\n",
    "print(x)\n"
   ]
  },
  {
   "cell_type": "code",
   "execution_count": 16,
   "id": "9bea7473",
   "metadata": {},
   "outputs": [
    {
     "name": "stdout",
     "output_type": "stream",
     "text": [
      "['1' '2' '3' '4.5' '5']\n"
     ]
    }
   ],
   "source": [
    "#we can pass a list, tuple or any array-like object into the array() method, and it will be converted into an ndarray\n",
    "mo=[1, 2, 3, 4.5 , '5']\n",
    "a1= np.array(mo)\n",
    "print(a1)\n",
    "# it will print [1 2 3 4.5 '5'] which means all elements are strings"
   ]
  },
  {
   "cell_type": "markdown",
   "id": "d1266f1d",
   "metadata": {},
   "source": [
    "# Accessing/Changing specific elemts , row , colums ,etc"
   ]
  },
  {
   "cell_type": "code",
   "execution_count": 17,
   "id": "69e42429",
   "metadata": {},
   "outputs": [
    {
     "name": "stdout",
     "output_type": "stream",
     "text": [
      "[[ 1  2  3  4  5]\n",
      " [ 6  7  8  9 10]]\n"
     ]
    },
    {
     "data": {
      "text/plain": [
       "(2, 5)"
      ]
     },
     "execution_count": 17,
     "metadata": {},
     "output_type": "execute_result"
    }
   ],
   "source": [
    "a = np.array([[1, 2, 3, 4, 5] ,[6, 7, 8, 9, 10]])\n",
    "print(a)\n",
    "a.shape"
   ]
  },
  {
   "cell_type": "code",
   "execution_count": 18,
   "id": "64cf2421",
   "metadata": {},
   "outputs": [
    {
     "name": "stdout",
     "output_type": "stream",
     "text": [
      "1\n",
      "5\n"
     ]
    }
   ],
   "source": [
    "# get specific element , we are using indexing (row, column)\n",
    "print(a[0, 0])\n",
    "# we can use negative indexing to get the last element\n",
    "print(a[0, -1])\n",
    "\n"
   ]
  },
  {
   "cell_type": "code",
   "execution_count": 19,
   "id": "f5b3d27a",
   "metadata": {},
   "outputs": [
    {
     "data": {
      "text/plain": [
       "array([1, 2, 3, 4, 5])"
      ]
     },
     "execution_count": 19,
     "metadata": {},
     "output_type": "execute_result"
    }
   ],
   "source": [
    "# get specific row\n",
    "\n",
    "a[0]"
   ]
  },
  {
   "cell_type": "code",
   "execution_count": 20,
   "id": "2c832cb3",
   "metadata": {},
   "outputs": [
    {
     "name": "stdout",
     "output_type": "stream",
     "text": [
      "[2 7]\n"
     ]
    }
   ],
   "source": [
    " # to get specific column, we can use slicing\n",
    "print(a[:, 1])"
   ]
  },
  {
   "cell_type": "code",
   "execution_count": 21,
   "id": "c0db93a6",
   "metadata": {},
   "outputs": [
    {
     "data": {
      "text/plain": [
       "array([2, 4])"
      ]
     },
     "execution_count": 21,
     "metadata": {},
     "output_type": "execute_result"
    }
   ],
   "source": [
    "# to get more fancy [startinging, ending, step] , it is like i want to get betwwen 2 and 6 but \n",
    "\n",
    "a[0,1 : 6:2]\n",
    "\n",
    "#[in row,starting, ending, step]\n",
    "# this will give us the elements in the first row starting from index 1 to index 6 with a step of 2\n",
    "# so it will give us [2, 4]\n",
    "# we can also use negative indexing to get the last element\n",
    "# for example, a[0, -1] will give us the last element in the first row"
   ]
  },
  {
   "cell_type": "code",
   "execution_count": 22,
   "id": "181011d4",
   "metadata": {},
   "outputs": [
    {
     "name": "stdout",
     "output_type": "stream",
     "text": [
      "[[  1   2   3   4   5]\n",
      " [100   7   8   9  10]]\n"
     ]
    },
    {
     "data": {
      "text/plain": [
       "array([[  1,   2,  20,   4,   5],\n",
       "       [100,   7,  20,   9,  10]])"
      ]
     },
     "execution_count": 22,
     "metadata": {},
     "output_type": "execute_result"
    }
   ],
   "source": [
    "# we change using index too \n",
    "\n",
    "a[1,0]= 100\n",
    "print(a)\n",
    "# this will change the element in the second row and first column to 100\n",
    "# so the array will be [[1, 2, 3, 4, 5], [100, 7, 8, 9, 10]]\n",
    "\n",
    "# we can do the same for series of numbers\n",
    "\n",
    "a[:,2] = 20\n",
    "\n",
    "a"
   ]
  },
  {
   "cell_type": "code",
   "execution_count": 35,
   "id": "39c4c2a0",
   "metadata": {},
   "outputs": [
    {
     "data": {
      "text/plain": [
       "array([[[1, 2],\n",
       "        [3, 4]],\n",
       "\n",
       "       [[5, 6],\n",
       "        [7, 8]]])"
      ]
     },
     "execution_count": 35,
     "metadata": {},
     "output_type": "execute_result"
    }
   ],
   "source": [
    "# 3D example \n",
    "\n",
    "d= np.array([[[1, 2], [3, 4]], [[5, 6], [7, 8]]])\n",
    "d"
   ]
  },
  {
   "cell_type": "code",
   "execution_count": null,
   "id": "96c0c083",
   "metadata": {},
   "outputs": [
    {
     "name": "stdout",
     "output_type": "stream",
     "text": [
      "3\n"
     ]
    }
   ],
   "source": [
    "# to have a specific element in a 3D array, we can use indexing like this\n",
    "print(d[0, 1, 0])  # This will give us the element at the first block, second row, first column\n",
    "# it will print 3\n",
    "\n",
    "# we are not deaing with matrices here, we are dealing with 3D shapes \n",
    "# so we can have 3D arrays with more than 2 dimensions"
   ]
  },
  {
   "cell_type": "code",
   "execution_count": null,
   "id": "5422cd20",
   "metadata": {},
   "outputs": [
    {
     "name": "stdout",
     "output_type": "stream",
     "text": [
      "[[[ 1  2]\n",
      "  [ 8  9]]\n",
      "\n",
      " [[ 5  6]\n",
      "  [10 11]]]\n"
     ]
    }
   ],
   "source": [
    "#replace \n",
    "d[:,1,:] = [[8, 9], [10, 11]]\n",
    "print(d) \n",
    "# this will replace the second row of each block with the new values\n",
    "# so the array will be [[[1, 2], [8, 9]], [[5, 6], [10, 11]]]\n",
    "# you can not do shomething like this : d[:,1,:] = [[8, 9,10], [10, 11]] \n",
    "# it will raise an error because the shape of the array will not match\n",
    "# so you have to make sure that the shape of the array matches the shape of the values you are trying to assign"
   ]
  },
  {
   "cell_type": "code",
   "execution_count": 39,
   "id": "27b7ec76",
   "metadata": {},
   "outputs": [
    {
     "data": {
      "text/plain": [
       "array([[[ 1,  2,  3,  4],\n",
       "        [ 5,  6,  7,  8]],\n",
       "\n",
       "       [[ 9, 10, 11, 12],\n",
       "        [13, 14, 15, 16]],\n",
       "\n",
       "       [[ 1,  2,  3,  4],\n",
       "        [ 5,  6,  7,  8]]])"
      ]
     },
     "execution_count": 39,
     "metadata": {},
     "output_type": "execute_result"
    }
   ],
   "source": [
    "t= np.array([[[1,2,3,4],[5,6,7,8]],[[9,10,11,12],[13,14,15,16]] , [[1,2,3,4], [5,6,7,8]]])\n",
    "t"
   ]
  },
  {
   "cell_type": "markdown",
   "id": "1b95f933",
   "metadata": {},
   "source": [
    "# initialize different types of arrays "
   ]
  },
  {
   "cell_type": "code",
   "execution_count": null,
   "id": "44257d5c",
   "metadata": {},
   "outputs": [
    {
     "name": "stdout",
     "output_type": "stream",
     "text": [
      "[[0. 0. 0. 0.]\n",
      " [0. 0. 0. 0.]\n",
      " [0. 0. 0. 0.]]\n"
     ]
    },
    {
     "data": {
      "text/plain": [
       "array([[[[0., 0., 0., 0., 0.],\n",
       "         [0., 0., 0., 0., 0.],\n",
       "         [0., 0., 0., 0., 0.],\n",
       "         [0., 0., 0., 0., 0.]],\n",
       "\n",
       "        [[0., 0., 0., 0., 0.],\n",
       "         [0., 0., 0., 0., 0.],\n",
       "         [0., 0., 0., 0., 0.],\n",
       "         [0., 0., 0., 0., 0.]],\n",
       "\n",
       "        [[0., 0., 0., 0., 0.],\n",
       "         [0., 0., 0., 0., 0.],\n",
       "         [0., 0., 0., 0., 0.],\n",
       "         [0., 0., 0., 0., 0.]]],\n",
       "\n",
       "\n",
       "       [[[0., 0., 0., 0., 0.],\n",
       "         [0., 0., 0., 0., 0.],\n",
       "         [0., 0., 0., 0., 0.],\n",
       "         [0., 0., 0., 0., 0.]],\n",
       "\n",
       "        [[0., 0., 0., 0., 0.],\n",
       "         [0., 0., 0., 0., 0.],\n",
       "         [0., 0., 0., 0., 0.],\n",
       "         [0., 0., 0., 0., 0.]],\n",
       "\n",
       "        [[0., 0., 0., 0., 0.],\n",
       "         [0., 0., 0., 0., 0.],\n",
       "         [0., 0., 0., 0., 0.],\n",
       "         [0., 0., 0., 0., 0.]]]])"
      ]
     },
     "execution_count": 46,
     "metadata": {},
     "output_type": "execute_result"
    }
   ],
   "source": [
    "# all zeroes matrix\n",
    "z= np.zeros((3, 4))  # 3 rows and 4 columns\n",
    "# this will create a 2D array with 3 rows and 4 columns filled with zeros\n",
    "\n",
    "print(z)\n",
    "\n",
    "# toy can use in in all shapes, like 3D, 4D, etc.\n",
    "l=np.zeros((2, 3, 4,5))  # 2 blocks, 3 rows and 4 columns\n",
    "# this will create a 3D array with 2 blocks, each block has 3 rows and 4 columns filled with zeros\n",
    "\n",
    "#Breaking down the shape (2, 3, 4, 5):\n",
    "#1st dim = 2 → number of “big blocks” (think of it like 2 cubes)\n",
    "\n",
    "#2nd dim = 3 → each block has 3 layers\n",
    "\n",
    "#3rd dim = 4 → each layer has 4 rows\n",
    "\n",
    "#4th dim = 5 → each row has 5 columns\n",
    "\n",
    "#So the total number of elements = 2 × 3 × 4 × 5 = 120 zeros.\n",
    "\n",
    "l"
   ]
  },
  {
   "cell_type": "code",
   "execution_count": 52,
   "id": "6cca3ba2",
   "metadata": {},
   "outputs": [
    {
     "name": "stdout",
     "output_type": "stream",
     "text": [
      "[[1. 1. 1. 1.]\n",
      " [1. 1. 1. 1.]\n",
      " [1. 1. 1. 1.]]\n"
     ]
    },
    {
     "data": {
      "text/plain": [
       "array([[1, 1, 1, 1],\n",
       "       [1, 1, 1, 1],\n",
       "       [1, 1, 1, 1]], dtype=int8)"
      ]
     },
     "execution_count": 52,
     "metadata": {},
     "output_type": "execute_result"
    }
   ],
   "source": [
    "# all ones matrix\n",
    "o= np.ones((3, 4))  # 3 rows and 4 columns\n",
    "# this will create a 2D array with 3 rows and 4 columns filled with ones\n",
    "print(o)\n",
    "\n",
    "# you can also specify the data type when creating the array\n",
    "o_float = np.ones((3, 4), dtype=np.int8)\n",
    "o_float"
   ]
  },
  {
   "cell_type": "code",
   "execution_count": 53,
   "id": "a59066b1",
   "metadata": {},
   "outputs": [
    {
     "name": "stdout",
     "output_type": "stream",
     "text": [
      "[[7 7 7]\n",
      " [7 7 7]]\n"
     ]
    }
   ],
   "source": [
    "# any other array can be created using the same method\n",
    "# for example, you can create an array of random numbers, or an array of a specific value\n",
    "# you can use np.full() to create an array filled with a specific value\n",
    "full_array = np.full((2, 3), 7)  # 2 rows and 3 columns filled with 7\n",
    "print(full_array)"
   ]
  },
  {
   "cell_type": "code",
   "execution_count": 58,
   "id": "83e58048",
   "metadata": {},
   "outputs": [
    {
     "data": {
      "text/plain": [
       "array([[[5, 5, 5, 5],\n",
       "        [5, 5, 5, 5]],\n",
       "\n",
       "       [[5, 5, 5, 5],\n",
       "        [5, 5, 5, 5]],\n",
       "\n",
       "       [[5, 5, 5, 5],\n",
       "        [5, 5, 5, 5]]])"
      ]
     },
     "execution_count": 58,
     "metadata": {},
     "output_type": "execute_result"
    }
   ],
   "source": [
    "# fill_like \n",
    "# if i want to modify an existing array to have same num \n",
    "np.full(l.shape, 5)  # this will create an array with the same shape as l filled with 5\n",
    "# so if l is a 3D array with shape (2, 3, 4, 5), it will create an array with the same shape filled with 5\n",
    "# this is useful when you want to create an array with the same shape as another array but with different values\n",
    "np.full_like(t, 5)\n"
   ]
  },
  {
   "cell_type": "code",
   "execution_count": 69,
   "id": "b40dd5c6",
   "metadata": {},
   "outputs": [
    {
     "data": {
      "text/plain": [
       "array([[[0.81343033, 0.28673982, 0.50024126, 0.00820028],\n",
       "        [0.74075828, 0.36082545, 0.38561784, 0.48806911]],\n",
       "\n",
       "       [[0.17920058, 0.02907709, 0.11688076, 0.61702026],\n",
       "        [0.62618351, 0.4739087 , 0.6357372 , 0.63557092]],\n",
       "\n",
       "       [[0.69944421, 0.96993602, 0.14105882, 0.70412027],\n",
       "        [0.72621206, 0.71083507, 0.06063421, 0.27887625]]])"
      ]
     },
     "execution_count": 69,
     "metadata": {},
     "output_type": "execute_result"
    }
   ],
   "source": [
    "# random decimal numbers\n",
    "np.random.rand(2, 3)  # 2 rows and 3 columns filled with random numbers between 0 and 1\n",
    "# this will create a 2D array with 2 rows and 3 columns filled with random numbers between 0 and 1\n",
    "# you can also specify the data type when creating the array\n",
    "\n",
    "np.random.random_sample(t.shape)"
   ]
  },
  {
   "cell_type": "code",
   "execution_count": null,
   "id": "2b5f3e7e",
   "metadata": {},
   "outputs": [
    {
     "data": {
      "text/plain": [
       "array([[7, 8, 9],\n",
       "       [6, 9, 9]], dtype=int32)"
      ]
     },
     "execution_count": 81,
     "metadata": {},
     "output_type": "execute_result"
    }
   ],
   "source": [
    "# random integers\n",
    "np.random.randint(4,10, size=(2, 3)) # random nymbers between 4 and 10, with shape (2, 3)\n",
    "# this will create a 2D array with 2 rows and 3 columns filled with random integers between 4 and 10\n",
    "# you can also specify the data type when creating the array\n",
    "\n"
   ]
  },
  {
   "cell_type": "code",
   "execution_count": 84,
   "id": "26681d51",
   "metadata": {},
   "outputs": [
    {
     "data": {
      "text/plain": [
       "array([[1., 0., 0.],\n",
       "       [0., 1., 0.],\n",
       "       [0., 0., 1.]])"
      ]
     },
     "execution_count": 84,
     "metadata": {},
     "output_type": "execute_result"
    }
   ],
   "source": [
    "# we can also make identity matrix \n",
    "np.identity(3)  # 3x3 identity matrix\n",
    "# this will create a 2D array with 3 rows and 3 columns filled with ones on the diagonal and zeros elsewhere\n",
    "# it is useful in linear algebra and matrix operations\n",
    "# you can also specify the data type when creating the array\n"
   ]
  },
  {
   "cell_type": "code",
   "execution_count": 89,
   "id": "b43d3fdb",
   "metadata": {},
   "outputs": [
    {
     "data": {
      "text/plain": [
       "array([[[ 1,  2,  3,  4],\n",
       "        [ 1,  2,  3,  4],\n",
       "        [ 1,  2,  3,  4],\n",
       "        [ 5,  6,  7,  8],\n",
       "        [ 5,  6,  7,  8],\n",
       "        [ 5,  6,  7,  8]],\n",
       "\n",
       "       [[ 9, 10, 11, 12],\n",
       "        [ 9, 10, 11, 12],\n",
       "        [ 9, 10, 11, 12],\n",
       "        [13, 14, 15, 16],\n",
       "        [13, 14, 15, 16],\n",
       "        [13, 14, 15, 16]],\n",
       "\n",
       "       [[ 1,  2,  3,  4],\n",
       "        [ 1,  2,  3,  4],\n",
       "        [ 1,  2,  3,  4],\n",
       "        [ 5,  6,  7,  8],\n",
       "        [ 5,  6,  7,  8],\n",
       "        [ 5,  6,  7,  8]]])"
      ]
     },
     "execution_count": 89,
     "metadata": {},
     "output_type": "execute_result"
    }
   ],
   "source": [
    "# to repeat an array \n",
    "y=np.array([1, 2, 3])\n",
    "# to repeat the array 3 times\n",
    "np.repeat(t,3 , axis=1) "
   ]
  },
  {
   "cell_type": "code",
   "execution_count": 103,
   "id": "981dc63a",
   "metadata": {},
   "outputs": [
    {
     "name": "stdout",
     "output_type": "stream",
     "text": [
      "[[1. 1. 1. 1. 1.]\n",
      " [1. 0. 0. 0. 1.]\n",
      " [1. 0. 9. 0. 1.]\n",
      " [1. 0. 0. 0. 1.]\n",
      " [1. 1. 1. 1. 1.]]\n",
      "[[0. 0. 0.]\n",
      " [0. 9. 0.]\n",
      " [0. 0. 0.]]\n",
      "[[1. 1. 1. 1. 1.]\n",
      " [1. 0. 0. 0. 1.]\n",
      " [1. 0. 9. 0. 1.]\n",
      " [1. 0. 0. 0. 1.]\n",
      " [1. 1. 1. 1. 1.]]\n",
      "[[ True  True  True  True  True]\n",
      " [ True  True  True  True  True]\n",
      " [ True  True  True  True  True]\n",
      " [ True  True  True  True  True]\n",
      " [ True  True  True  True  True]]\n"
     ]
    }
   ],
   "source": [
    "mat= np.ones((5, 5))  \n",
    "mat[1:4,1:4]=0\n",
    "mat[2,2]=9\n",
    "\n",
    "print(mat)\n",
    "\n",
    "\n",
    "#Also \n",
    "\n",
    "out= np.ones((5, 5))  \n",
    "z=np.zeros((3, 3))\n",
    "z[1,1]=9\n",
    "print(z)\n",
    "out[1:4,1:4]=z\n",
    "print(out)\n",
    "\n",
    "print(mat==out)"
   ]
  },
  {
   "cell_type": "markdown",
   "id": "8e9cbf18",
   "metadata": {},
   "source": [
    "Beeee careful when copies an array!!!!!!!!!!!!!!!"
   ]
  },
  {
   "cell_type": "code",
   "execution_count": 106,
   "id": "8664b9c3",
   "metadata": {},
   "outputs": [
    {
     "name": "stdout",
     "output_type": "stream",
     "text": [
      "[100   2   3   4   5]\n",
      "[100   2   3   4   5]\n",
      "[200   2   3   4   5]\n"
     ]
    }
   ],
   "source": [
    "a=np.array([1, 2, 3, 4, 5])\n",
    "# Beeee careful when copies an array!!!!!!!!!!!!!!!\n",
    "b=a\n",
    "b[0]=100\n",
    "print(a)\n",
    "\n",
    "# that is becuase that two arrays are pointing to the same memory location\n",
    "# so if you change one, the other will change too\n",
    "# if you want to create a copy of the array, you can use the copy() method\n",
    "\n",
    "b = a.copy()\n",
    "b[0] = 200\n",
    "print(a)\n",
    "print(b)"
   ]
  },
  {
   "cell_type": "markdown",
   "id": "7d316178",
   "metadata": {},
   "source": [
    "# Mathematcial operations"
   ]
  },
  {
   "cell_type": "markdown",
   "id": "fd54f1c7",
   "metadata": {},
   "source": [
    "- one of the big uses of NumPy is all the mathematical cabilities that it offer"
   ]
  },
  {
   "cell_type": "code",
   "execution_count": 109,
   "id": "37eb4c27",
   "metadata": {},
   "outputs": [
    {
     "name": "stdout",
     "output_type": "stream",
     "text": [
      "[1 2 3 4 5]\n"
     ]
    }
   ],
   "source": [
    "a=np.array([1, 2, 3, 4, 5])\n",
    "print(a)"
   ]
  },
  {
   "cell_type": "code",
   "execution_count": null,
   "id": "c7da512b",
   "metadata": {},
   "outputs": [
    {
     "data": {
      "text/plain": [
       "array([3, 4, 5, 6, 7])"
      ]
     },
     "execution_count": 110,
     "metadata": {},
     "output_type": "execute_result"
    }
   ],
   "source": [
    "a+2\n",
    "\n",
    "\n",
    "# we add 2 to all elements in the array\n",
    "# it will return a new array with the same shape as the original array but with all elements increased by 2\n",
    "# so it will return [3, 4, 5, 6, 7]"
   ]
  },
  {
   "cell_type": "code",
   "execution_count": 112,
   "id": "821eb201",
   "metadata": {},
   "outputs": [
    {
     "name": "stdout",
     "output_type": "stream",
     "text": [
      "[-1  0  1  2  3]\n",
      "[1 2 3 4 5]\n"
     ]
    }
   ],
   "source": [
    "print(a-2 )\n",
    "# this will subtract 2 from all elements in the array\n",
    "# look here that all those opwerations doesn't change the original array'ArithmeticError\n",
    "print(a)"
   ]
  },
  {
   "cell_type": "code",
   "execution_count": null,
   "id": "cf1e8298",
   "metadata": {},
   "outputs": [
    {
     "name": "stdout",
     "output_type": "stream",
     "text": [
      "[ 2  4  6  8 10]\n",
      "[0.5 1.  1.5 2.  2.5]\n"
     ]
    }
   ],
   "source": [
    "print(a*2)\n",
    "print(a/2)\n"
   ]
  },
  {
   "cell_type": "code",
   "execution_count": 115,
   "id": "e455bdab",
   "metadata": {},
   "outputs": [
    {
     "name": "stdout",
     "output_type": "stream",
     "text": [
      "[3 4 5 6 7]\n"
     ]
    }
   ],
   "source": [
    "#but when will you change the original array? when use assiment operators like +=, -=, *=, /=, etc.\n",
    "a += 2\n",
    "print(a)\n",
    "# this will add 2 to all elements in the array and change the original array\n",
    "# so it will return [3, 4, 5, 6, 7]"
   ]
  },
  {
   "cell_type": "code",
   "execution_count": 118,
   "id": "91fa81ed",
   "metadata": {},
   "outputs": [
    {
     "name": "stdout",
     "output_type": "stream",
     "text": [
      "[3 4 5 6 7]\n",
      "[5 6 7 8 9]\n",
      "[3 4 5 6 7]\n"
     ]
    }
   ],
   "source": [
    "print(a)\n",
    "print(a+2)\n",
    "print(a)"
   ]
  },
  {
   "cell_type": "code",
   "execution_count": 119,
   "id": "21576b6d",
   "metadata": {},
   "outputs": [
    {
     "data": {
      "text/plain": [
       "array([ 4,  6,  8, 10, 12])"
      ]
     },
     "execution_count": 119,
     "metadata": {},
     "output_type": "execute_result"
    }
   ],
   "source": [
    "# you can also \n",
    "b= np.array([1, 2, 3, 4, 5])\n",
    "a+b"
   ]
  },
  {
   "cell_type": "code",
   "execution_count": 120,
   "id": "4aa9bb40",
   "metadata": {},
   "outputs": [
    {
     "data": {
      "text/plain": [
       "array([ 9, 16, 25, 36, 49])"
      ]
     },
     "execution_count": 120,
     "metadata": {},
     "output_type": "execute_result"
    }
   ],
   "source": [
    "a**2"
   ]
  },
  {
   "cell_type": "code",
   "execution_count": 123,
   "id": "9f132586",
   "metadata": {},
   "outputs": [
    {
     "name": "stdout",
     "output_type": "stream",
     "text": [
      "[ 0.14112001 -0.7568025  -0.95892427 -0.2794155   0.6569866 ]\n",
      "[3 4 5 6 7]\n"
     ]
    }
   ],
   "source": [
    "# take sin \n",
    "print (np.sin(a))\n",
    "# this will take the sine of all elements in the array\n",
    "# it will return a new array with the same shape as the original array but with all elements replaced by their sine values\n",
    "# so it will return [0.14112001, 0.90929743, 0.14112001, -0.7568025 , -0.95892427]\n",
    "print(a)"
   ]
  },
  {
   "cell_type": "markdown",
   "id": "f416fc5e",
   "metadata": {},
   "source": [
    "# Linear Algebra stuff"
   ]
  },
  {
   "cell_type": "code",
   "execution_count": null,
   "id": "3562188c",
   "metadata": {},
   "outputs": [],
   "source": []
  }
 ],
 "metadata": {
  "kernelspec": {
   "display_name": "Python 3",
   "language": "python",
   "name": "python3"
  },
  "language_info": {
   "codemirror_mode": {
    "name": "ipython",
    "version": 3
   },
   "file_extension": ".py",
   "mimetype": "text/x-python",
   "name": "python",
   "nbconvert_exporter": "python",
   "pygments_lexer": "ipython3",
   "version": "3.12.10"
  }
 },
 "nbformat": 4,
 "nbformat_minor": 5
}
