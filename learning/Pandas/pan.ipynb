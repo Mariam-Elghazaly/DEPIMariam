{
 "cells": [
  {
   "cell_type": "code",
   "execution_count": 2,
   "id": "c28132e0",
   "metadata": {},
   "outputs": [],
   "source": [
    "import pandas as pd\n",
    "\n",
    "import numpy as np"
   ]
  },
  {
   "cell_type": "markdown",
   "id": "338d663b",
   "metadata": {},
   "source": [
    "# What is pandas lib? "
   ]
  },
  {
   "cell_type": "markdown",
   "id": "a5135b16",
   "metadata": {},
   "source": [
    "- Pandas is open-source Python library which is used for data manipulation and analysis. It consist of data structures and functions to perform efficient operations on data. It is well-suited for working with tabular data such as spreadsheets or SQL tables. It is used in data science because it works well with other important libraries. It is built on top of the NumPy library as it makes easier to manipulate and analyze. Pandas is used in other libraries such as:\n",
    "\n",
    "Matplotlib for plotting graphs\n",
    "SciPy for statistical analysis\n",
    "Scikit-learn for machine learning algorithms.\n",
    "It uses many functionalities provided by NumPy library.\n",
    "\n",
    "\n",
    "\n",
    "- Data Cleaning, Merging and Joining: Clean and combine data from multiple sources, handling inconsistencies and duplicates.\n",
    "- Handling Missing Data: Manage missing values (NaN) in both floating and non-floating point data.\n",
    "- Column Insertion and Deletion: Easily add, remove or modify columns in a DataFrame.\n",
    "- Group By Operations: Use \"split-apply-combine\" to group and analyze data.\n",
    "- Data Visualization: Create visualizations with Matplotlib and Seaborn, integrated with Pandas.\n",
    "\n",
    "\n",
    "\n",
    "\n"
   ]
  },
  {
   "cell_type": "markdown",
   "id": "466b0a4a",
   "metadata": {},
   "source": [
    "# Intro to Dataframes \n"
   ]
  },
  {
   "cell_type": "markdown",
   "id": "0f0434b4",
   "metadata": {},
   "source": [
    "- Dataframes is the main Datastructure in py pandas lib , and we can think of them as tables with sorts of extra functionality . \n",
    "\n",
    "\n",
    "A Pandas DataFrame is a two-dimensional table-like structure in Python where data is arranged in rows and columns. It’s one of the most commonly used tools for handling data and makes it easy to organize, analyze and manipulate data. It can store different types of data such as numbers, text and dates across its columns. The main parts of a DataFrame are:\n",
    "\n",
    "Data: Actual values in the table.\n",
    "Rows: Labels that identify each row.\n",
    "Columns: Labels that define each data category.\n",
    "\n",
    "\n",
    "-> we can aslo say :\n",
    "\n",
    "- A DataFrame in pandas is basically like a supercharged Excel table inside Python — but with way more power and flexibility.\n",
    "\n",
    "Here’s the breakdown:\n",
    "\n",
    "Structure:\n",
    "\n",
    "Rows → represent records or observations.\n",
    "\n",
    "Columns → represent variables or features.\n",
    "\n",
    "Index → labels for each row (can be numbers, dates, or custom IDs).\n",
    "\n",
    "Key Features:\n",
    "\n",
    "Can hold different data types in different columns (integers, floats, strings, dates, etc.).\n",
    "\n",
    "Comes with built-in functions to filter, sort, group, and analyze data.\n",
    "\n",
    "Works seamlessly with CSV, Excel, SQL, JSON, and many other formats.\n",
    "\n",
    "Allows vectorized operations — meaning you can perform math or transformations on entire columns at once, much faster than looping."
   ]
  },
  {
   "cell_type": "code",
   "execution_count": 32,
   "id": "a9738929",
   "metadata": {},
   "outputs": [],
   "source": [
    "# we can create our data fram directily \n",
    "\n",
    "df=pd.DataFrame([[1,2,3],[4,5,6],[7,8,9]])\n",
    "\n",
    "# we can also add column names to our data frame\n",
    "\n",
    "df=pd.DataFrame([[1,2,3],[4,5,6],[7,8,9]],columns=['a','b','c'])\n",
    "\n",
    "# we can also add row names to our data frame\n",
    "\n",
    "df=pd.DataFrame([[1,2,3],[4,5,6],[7,8,9]],columns=['a','b','c'],index=['row1','row2','row3'])\n",
    "\n",
    "# we can also make this afrer creation by \n",
    "\n",
    "df.index=['1','2','3']\n",
    "df.columns=['A','B','C']\n",
    "\n",
    "# without naming it , it will be named as 0,1,2,3,4,5,6,7,8 \n",
    "\n",
    "\n",
    "# we can also create a data frame from a dictionary\n",
    "df=pd.DataFrame({'a':[1,2,3],'b':[4,5,6],'c':[7,8,9]})\n",
    "df.index=['row1','row2','row3']\n",
    "\n",
    "# where a ,b, c are the column names and the values are the rows"
   ]
  },
  {
   "cell_type": "code",
   "execution_count": 20,
   "id": "5b938087",
   "metadata": {},
   "outputs": [
    {
     "data": {
      "text/html": [
       "<div>\n",
       "<style scoped>\n",
       "    .dataframe tbody tr th:only-of-type {\n",
       "        vertical-align: middle;\n",
       "    }\n",
       "\n",
       "    .dataframe tbody tr th {\n",
       "        vertical-align: top;\n",
       "    }\n",
       "\n",
       "    .dataframe thead th {\n",
       "        text-align: right;\n",
       "    }\n",
       "</style>\n",
       "<table border=\"1\" class=\"dataframe\">\n",
       "  <thead>\n",
       "    <tr style=\"text-align: right;\">\n",
       "      <th></th>\n",
       "      <th>a</th>\n",
       "      <th>b</th>\n",
       "      <th>c</th>\n",
       "    </tr>\n",
       "  </thead>\n",
       "  <tbody>\n",
       "    <tr>\n",
       "      <th>row1</th>\n",
       "      <td>1</td>\n",
       "      <td>4</td>\n",
       "      <td>7</td>\n",
       "    </tr>\n",
       "    <tr>\n",
       "      <th>row2</th>\n",
       "      <td>2</td>\n",
       "      <td>5</td>\n",
       "      <td>8</td>\n",
       "    </tr>\n",
       "  </tbody>\n",
       "</table>\n",
       "</div>"
      ],
      "text/plain": [
       "      a  b  c\n",
       "row1  1  4  7\n",
       "row2  2  5  8"
      ]
     },
     "execution_count": 20,
     "metadata": {},
     "output_type": "execute_result"
    }
   ],
   "source": [
    "# we  can start to look at things within this data frame\n",
    "\n",
    "df.head()  # shows the first 5 rows of the dataframe\n",
    "\n",
    "# head wit default is 5, but we can change it to any number\n",
    "df.head(2)  # shows the first 2 rows of the dataframe\n",
    "\n",
    "\n"
   ]
  },
  {
   "cell_type": "code",
   "execution_count": 28,
   "id": "0ebf513f",
   "metadata": {},
   "outputs": [
    {
     "data": {
      "text/plain": [
       "(3, 3)"
      ]
     },
     "execution_count": 28,
     "metadata": {},
     "output_type": "execute_result"
    }
   ],
   "source": [
    "df.columns  # shows the column names of the dataframe\n",
    "\n",
    "df.index  # shows the row names of the dataframe\n",
    "\n",
    "df # shows the whole dataframe\n",
    "\n",
    "df.shape  # shows the shape of the dataframe (rows, columns)"
   ]
  },
  {
   "cell_type": "code",
   "execution_count": 33,
   "id": "9b2bea4b",
   "metadata": {},
   "outputs": [
    {
     "name": "stdout",
     "output_type": "stream",
     "text": [
      "<class 'pandas.core.frame.DataFrame'>\n",
      "Index: 3 entries, row1 to row3\n",
      "Data columns (total 3 columns):\n",
      " #   Column  Non-Null Count  Dtype\n",
      "---  ------  --------------  -----\n",
      " 0   a       3 non-null      int64\n",
      " 1   b       3 non-null      int64\n",
      " 2   c       3 non-null      int64\n",
      "dtypes: int64(3)\n",
      "memory usage: 96.0+ bytes\n"
     ]
    }
   ],
   "source": [
    "# also one useful thing is to do with dataframes is : \n",
    "\n",
    "df.info()  # shows the information about the dataframe, like number of rows, columns, data types, memory usage"
   ]
  },
  {
   "cell_type": "code",
   "execution_count": 35,
   "id": "21bdebee",
   "metadata": {},
   "outputs": [
    {
     "data": {
      "text/html": [
       "<div>\n",
       "<style scoped>\n",
       "    .dataframe tbody tr th:only-of-type {\n",
       "        vertical-align: middle;\n",
       "    }\n",
       "\n",
       "    .dataframe tbody tr th {\n",
       "        vertical-align: top;\n",
       "    }\n",
       "\n",
       "    .dataframe thead th {\n",
       "        text-align: right;\n",
       "    }\n",
       "</style>\n",
       "<table border=\"1\" class=\"dataframe\">\n",
       "  <thead>\n",
       "    <tr style=\"text-align: right;\">\n",
       "      <th></th>\n",
       "      <th>a</th>\n",
       "      <th>b</th>\n",
       "      <th>c</th>\n",
       "    </tr>\n",
       "  </thead>\n",
       "  <tbody>\n",
       "    <tr>\n",
       "      <th>count</th>\n",
       "      <td>3.0</td>\n",
       "      <td>3.0</td>\n",
       "      <td>3.0</td>\n",
       "    </tr>\n",
       "    <tr>\n",
       "      <th>mean</th>\n",
       "      <td>2.0</td>\n",
       "      <td>5.0</td>\n",
       "      <td>8.0</td>\n",
       "    </tr>\n",
       "    <tr>\n",
       "      <th>std</th>\n",
       "      <td>1.0</td>\n",
       "      <td>1.0</td>\n",
       "      <td>1.0</td>\n",
       "    </tr>\n",
       "    <tr>\n",
       "      <th>min</th>\n",
       "      <td>1.0</td>\n",
       "      <td>4.0</td>\n",
       "      <td>7.0</td>\n",
       "    </tr>\n",
       "    <tr>\n",
       "      <th>25%</th>\n",
       "      <td>1.5</td>\n",
       "      <td>4.5</td>\n",
       "      <td>7.5</td>\n",
       "    </tr>\n",
       "    <tr>\n",
       "      <th>50%</th>\n",
       "      <td>2.0</td>\n",
       "      <td>5.0</td>\n",
       "      <td>8.0</td>\n",
       "    </tr>\n",
       "    <tr>\n",
       "      <th>75%</th>\n",
       "      <td>2.5</td>\n",
       "      <td>5.5</td>\n",
       "      <td>8.5</td>\n",
       "    </tr>\n",
       "    <tr>\n",
       "      <th>max</th>\n",
       "      <td>3.0</td>\n",
       "      <td>6.0</td>\n",
       "      <td>9.0</td>\n",
       "    </tr>\n",
       "  </tbody>\n",
       "</table>\n",
       "</div>"
      ],
      "text/plain": [
       "         a    b    c\n",
       "count  3.0  3.0  3.0\n",
       "mean   2.0  5.0  8.0\n",
       "std    1.0  1.0  1.0\n",
       "min    1.0  4.0  7.0\n",
       "25%    1.5  4.5  7.5\n",
       "50%    2.0  5.0  8.0\n",
       "75%    2.5  5.5  8.5\n",
       "max    3.0  6.0  9.0"
      ]
     },
     "execution_count": 35,
     "metadata": {},
     "output_type": "execute_result"
    }
   ],
   "source": [
    "# another thing that is useful is to do is :\n",
    "df.describe()  # shows the statistical summary of the dataframe, like count, mean, std, min, max, etc. for numeric columns"
   ]
  },
  {
   "cell_type": "code",
   "execution_count": 39,
   "id": "f705b311",
   "metadata": {},
   "outputs": [
    {
     "data": {
      "text/plain": [
       "array([1, 2, 3])"
      ]
     },
     "execution_count": 39,
     "metadata": {},
     "output_type": "execute_result"
    }
   ],
   "source": [
    "# we also can find the unique values in a column\n",
    "df.nunique() # shows the number of unique values in each column\n",
    "\n",
    "# we can also find the unique values in a column\n",
    "df['a'].unique()  # shows the unique values in column A"
   ]
  },
  {
   "cell_type": "markdown",
   "id": "3a48b3ec",
   "metadata": {},
   "source": [
    "# loading our data "
   ]
  }
 ],
 "metadata": {
  "kernelspec": {
   "display_name": "Python 3",
   "language": "python",
   "name": "python3"
  },
  "language_info": {
   "codemirror_mode": {
    "name": "ipython",
    "version": 3
   },
   "file_extension": ".py",
   "mimetype": "text/x-python",
   "name": "python",
   "nbconvert_exporter": "python",
   "pygments_lexer": "ipython3",
   "version": "3.12.10"
  }
 },
 "nbformat": 4,
 "nbformat_minor": 5
}
