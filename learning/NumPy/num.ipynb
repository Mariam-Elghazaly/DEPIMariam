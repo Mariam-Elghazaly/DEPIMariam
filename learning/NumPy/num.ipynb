{
 "cells": [
  {
   "cell_type": "code",
   "execution_count": 3,
   "id": "54880ae1",
   "metadata": {},
   "outputs": [],
   "source": [
    "import numpy as np"
   ]
  },
  {
   "cell_type": "markdown",
   "id": "ffea8406",
   "metadata": {},
   "source": [
    "# Basics"
   ]
  },
  {
   "cell_type": "code",
   "execution_count": 4,
   "id": "3fbc1ecd",
   "metadata": {},
   "outputs": [
    {
     "data": {
      "text/plain": [
       "array([1, 2, 3, 4, 5])"
      ]
     },
     "execution_count": 4,
     "metadata": {},
     "output_type": "execute_result"
    }
   ],
   "source": [
    "# we can declare a numpy array\n",
    "a = np.array([1, 2, 3, 4, 5]) \n",
    "a\n"
   ]
  },
  {
   "cell_type": "code",
   "execution_count": 5,
   "id": "2b3de37f",
   "metadata": {},
   "outputs": [
    {
     "name": "stdout",
     "output_type": "stream",
     "text": [
      "[1 2 3 4 5]\n"
     ]
    }
   ],
   "source": [
    "# we can declare a numpy array\n",
    "a = np.array([1, 2, 3, 4, 5]) \n",
    "print(a)\n"
   ]
  },
  {
   "cell_type": "code",
   "execution_count": 6,
   "id": "91f7f753",
   "metadata": {},
   "outputs": [
    {
     "name": "stdout",
     "output_type": "stream",
     "text": [
      "[[ 6  7  8  9 10]\n",
      " [11 12 13 14 15]]\n"
     ]
    }
   ],
   "source": [
    "b= np.array([[6, 7, 8, 9, 10],[11, 12, 13, 14, 15]])\n",
    "# here we made a 2D array where we have shape(2,5) , in math this is a matrix with 2 rows and 5 columns\n",
    "print(b)\n",
    "# look, In NumPy, a “matrix” is just a special case of an ndarray with 2 dimensions."
   ]
  },
  {
   "cell_type": "code",
   "execution_count": 7,
   "id": "386ee0f0",
   "metadata": {},
   "outputs": [
    {
     "data": {
      "text/plain": [
       "2"
      ]
     },
     "execution_count": 7,
     "metadata": {},
     "output_type": "execute_result"
    }
   ],
   "source": [
    "# to get the dimensions of the array\n",
    "b.ndim"
   ]
  },
  {
   "cell_type": "code",
   "execution_count": 8,
   "id": "51ce8dda",
   "metadata": {},
   "outputs": [
    {
     "data": {
      "text/plain": [
       "(2, 5)"
      ]
     },
     "execution_count": 8,
     "metadata": {},
     "output_type": "execute_result"
    }
   ],
   "source": [
    "# to get the shape of the array\n",
    "b.shape\n",
    "# it tells you the number of rows and columns in the array\n",
    "# in this case, it is (2, 5) which means 2 rows and 5 columns"
   ]
  },
  {
   "cell_type": "code",
   "execution_count": 9,
   "id": "5215d5ca",
   "metadata": {},
   "outputs": [
    {
     "name": "stdout",
     "output_type": "stream",
     "text": [
      "int64\n",
      "float64\n"
     ]
    }
   ],
   "source": [
    " # to get the data type of the array\n",
    "f = np.array([1.5, 2.5, 3.5, 4.5, 5.5])\n",
    "print(a.dtype)\n",
    "print(f.dtype)\n",
    "# it tells you the data type of the elements in the array\n",
    "# in this case, it is int64 which means the elements are 64-bit integers"
   ]
  },
  {
   "cell_type": "code",
   "execution_count": 10,
   "id": "95ea87ef",
   "metadata": {},
   "outputs": [
    {
     "name": "stdout",
     "output_type": "stream",
     "text": [
      "float32\n"
     ]
    },
    {
     "data": {
      "text/plain": [
       "array([1., 2., 3., 4., 5.], dtype=float32)"
      ]
     },
     "execution_count": 10,
     "metadata": {},
     "output_type": "execute_result"
    }
   ],
   "source": [
    "#if do you eant to have a specific data type, you can specify it when creating the array\n",
    "g = np.array([1, 2, 3, 4, 5], dtype=np.float32)\n",
    "print(g.dtype)\n",
    "g\n",
    "# here we specified the data type as float32, which means the elements are 32-bit floating-point numbers"
   ]
  },
  {
   "cell_type": "code",
   "execution_count": 11,
   "id": "a364f101",
   "metadata": {},
   "outputs": [
    {
     "name": "stdout",
     "output_type": "stream",
     "text": [
      "int16\n"
     ]
    }
   ],
   "source": [
    "# also when we are not taking large numbers, we can use int8, int16, int32, int64\n",
    "# and for floating point numbers, we can use float16, float32, float64\n",
    "# these are the most common data types used in NumPy arrays\n",
    "\n",
    "c= np.array([1, 2, 3, 4, 5], dtype=np.int16)\n",
    "print(c.dtype)\n",
    "# here we specified the data type as int8, which means the elements are 8-bit integers\n",
    "# this is useful when we want to save memory and we know that the values will not exceed the range of int8"
   ]
  },
  {
   "cell_type": "code",
   "execution_count": 12,
   "id": "26084aee",
   "metadata": {},
   "outputs": [
    {
     "name": "stdout",
     "output_type": "stream",
     "text": [
      "5\n"
     ]
    },
    {
     "data": {
      "text/plain": [
       "10"
      ]
     },
     "execution_count": 12,
     "metadata": {},
     "output_type": "execute_result"
    }
   ],
   "source": [
    "# get size of the array\n",
    "print(c.size)\n",
    "# it tells you the number of elements in the array\n",
    "# in this case, it is 5 which means there are 5 elements in the array\n",
    "\n",
    "# is we want to get the size of the array in bytes\n",
    "c.itemsize\n",
    "# it tells you the size of each element in the array in bytes\n",
    "# in this case, it is 1 which means each element is 2 byte\n",
    "\n",
    "# to get whole size of the array in bytes\n",
    "c.nbytes # equal to c.size * c.itemsize\n",
    "# it tells you the total size of the array in bytes\n",
    "# in this case, it is 10 which means the array takes 10 bytes of memory"
   ]
  },
  {
   "cell_type": "code",
   "execution_count": 13,
   "id": "8a8ca98d",
   "metadata": {},
   "outputs": [
    {
     "name": "stdout",
     "output_type": "stream",
     "text": [
      "[1.  2.  3.  4.5 5. ]\n",
      "['1' '2' '3' '4.5' '5']\n"
     ]
    }
   ],
   "source": [
    "# to be clear \n",
    "\n",
    "#numpy arrays are homogeneous, meaning all elements must be of the same data type.\n",
    "# so for example, you cannot have a numpy array with both integers and strings.\n",
    "\n",
    "s = np.array([1, 2, 3, 4.5 , 5])\n",
    "# this will create an array with all elements as strings, because numpy will convert the integers to float to make them homogeneous\n",
    "print(s)\n",
    "# it will print ['1' '2' '3' '4' '5'] which means all elements are strings\n",
    "\n",
    "x= np.array([1, 2, 3, 4.5 , '5'])\n",
    "print(x)\n"
   ]
  },
  {
   "cell_type": "code",
   "execution_count": 14,
   "id": "9bea7473",
   "metadata": {},
   "outputs": [
    {
     "name": "stdout",
     "output_type": "stream",
     "text": [
      "['1' '2' '3' '4.5' '5']\n"
     ]
    }
   ],
   "source": [
    "#we can pass a list, tuple or any array-like object into the array() method, and it will be converted into an ndarray\n",
    "mo=[1, 2, 3, 4.5 , '5']\n",
    "a1= np.array(mo)\n",
    "print(a1)\n",
    "# it will print [1 2 3 4.5 '5'] which means all elements are strings"
   ]
  },
  {
   "cell_type": "markdown",
   "id": "d1266f1d",
   "metadata": {},
   "source": [
    "# Accessing/Changing specific elemts , row , colums ,etc"
   ]
  },
  {
   "cell_type": "code",
   "execution_count": 15,
   "id": "69e42429",
   "metadata": {},
   "outputs": [
    {
     "name": "stdout",
     "output_type": "stream",
     "text": [
      "[[ 1  2  3  4  5]\n",
      " [ 6  7  8  9 10]]\n"
     ]
    },
    {
     "data": {
      "text/plain": [
       "(2, 5)"
      ]
     },
     "execution_count": 15,
     "metadata": {},
     "output_type": "execute_result"
    }
   ],
   "source": [
    "a = np.array([[1, 2, 3, 4, 5] ,[6, 7, 8, 9, 10]])\n",
    "print(a)\n",
    "a.shape"
   ]
  },
  {
   "cell_type": "code",
   "execution_count": 16,
   "id": "64cf2421",
   "metadata": {},
   "outputs": [
    {
     "name": "stdout",
     "output_type": "stream",
     "text": [
      "1\n",
      "5\n"
     ]
    }
   ],
   "source": [
    "# get specific element , we are using indexing (row, column)\n",
    "print(a[0, 0])\n",
    "# we can use negative indexing to get the last element\n",
    "print(a[0, -1])\n",
    "\n"
   ]
  },
  {
   "cell_type": "code",
   "execution_count": 17,
   "id": "f5b3d27a",
   "metadata": {},
   "outputs": [
    {
     "data": {
      "text/plain": [
       "array([1, 2, 3, 4, 5])"
      ]
     },
     "execution_count": 17,
     "metadata": {},
     "output_type": "execute_result"
    }
   ],
   "source": [
    "# get specific row\n",
    "\n",
    "a[0]"
   ]
  },
  {
   "cell_type": "code",
   "execution_count": 18,
   "id": "2c832cb3",
   "metadata": {},
   "outputs": [
    {
     "name": "stdout",
     "output_type": "stream",
     "text": [
      "[2 7]\n"
     ]
    }
   ],
   "source": [
    " # to get specific column, we can use slicing\n",
    "print(a[:, 1])"
   ]
  },
  {
   "cell_type": "code",
   "execution_count": 19,
   "id": "c0db93a6",
   "metadata": {},
   "outputs": [
    {
     "data": {
      "text/plain": [
       "array([2, 4])"
      ]
     },
     "execution_count": 19,
     "metadata": {},
     "output_type": "execute_result"
    }
   ],
   "source": [
    "# to get more fancy [startinging, ending, step] , it is like i want to get betwwen 2 and 6 but \n",
    "\n",
    "a[0,1 : 6:2]\n",
    "\n",
    "#[in row,starting, ending, step]\n",
    "# this will give us the elements in the first row starting from index 1 to index 6 with a step of 2\n",
    "# so it will give us [2, 4]\n",
    "# we can also use negative indexing to get the last element\n",
    "# for example, a[0, -1] will give us the last element in the first row"
   ]
  },
  {
   "cell_type": "code",
   "execution_count": 20,
   "id": "181011d4",
   "metadata": {},
   "outputs": [
    {
     "name": "stdout",
     "output_type": "stream",
     "text": [
      "[[  1   2   3   4   5]\n",
      " [100   7   8   9  10]]\n"
     ]
    },
    {
     "data": {
      "text/plain": [
       "array([[  1,   2,  20,   4,   5],\n",
       "       [100,   7,  20,   9,  10]])"
      ]
     },
     "execution_count": 20,
     "metadata": {},
     "output_type": "execute_result"
    }
   ],
   "source": [
    "# we change using index too \n",
    "\n",
    "a[1,0]= 100\n",
    "print(a)\n",
    "# this will change the element in the second row and first column to 100\n",
    "# so the array will be [[1, 2, 3, 4, 5], [100, 7, 8, 9, 10]]\n",
    "\n",
    "# we can do the same for series of numbers\n",
    "\n",
    "a[:,2] = 20\n",
    "\n",
    "a"
   ]
  },
  {
   "cell_type": "code",
   "execution_count": 21,
   "id": "39c4c2a0",
   "metadata": {},
   "outputs": [
    {
     "data": {
      "text/plain": [
       "array([[[1, 2],\n",
       "        [3, 4]],\n",
       "\n",
       "       [[5, 6],\n",
       "        [7, 8]]])"
      ]
     },
     "execution_count": 21,
     "metadata": {},
     "output_type": "execute_result"
    }
   ],
   "source": [
    "# 3D example \n",
    "\n",
    "d= np.array([[[1, 2], [3, 4]], [[5, 6], [7, 8]]])\n",
    "d"
   ]
  },
  {
   "cell_type": "code",
   "execution_count": 22,
   "id": "96c0c083",
   "metadata": {},
   "outputs": [
    {
     "name": "stdout",
     "output_type": "stream",
     "text": [
      "3\n"
     ]
    }
   ],
   "source": [
    "# to have a specific element in a 3D array, we can use indexing like this\n",
    "print(d[0, 1, 0])  # This will give us the element at the first block, second row, first column\n",
    "# it will print 3\n",
    "\n",
    "# we are not deaing with matrices here, we are dealing with 3D shapes \n",
    "# so we can have 3D arrays with more than 2 dimensions"
   ]
  },
  {
   "cell_type": "code",
   "execution_count": 23,
   "id": "5422cd20",
   "metadata": {},
   "outputs": [
    {
     "name": "stdout",
     "output_type": "stream",
     "text": [
      "[[[ 1  2]\n",
      "  [ 8  9]]\n",
      "\n",
      " [[ 5  6]\n",
      "  [10 11]]]\n"
     ]
    }
   ],
   "source": [
    "#replace \n",
    "d[:,1,:] = [[8, 9], [10, 11]]\n",
    "print(d) \n",
    "# this will replace the second row of each block with the new values\n",
    "# so the array will be [[[1, 2], [8, 9]], [[5, 6], [10, 11]]]\n",
    "# you can not do shomething like this : d[:,1,:] = [[8, 9,10], [10, 11]] \n",
    "# it will raise an error because the shape of the array will not match\n",
    "# so you have to make sure that the shape of the array matches the shape of the values you are trying to assign"
   ]
  },
  {
   "cell_type": "code",
   "execution_count": 24,
   "id": "27b7ec76",
   "metadata": {},
   "outputs": [
    {
     "data": {
      "text/plain": [
       "array([[[ 1,  2,  3,  4],\n",
       "        [ 5,  6,  7,  8]],\n",
       "\n",
       "       [[ 9, 10, 11, 12],\n",
       "        [13, 14, 15, 16]],\n",
       "\n",
       "       [[ 1,  2,  3,  4],\n",
       "        [ 5,  6,  7,  8]]])"
      ]
     },
     "execution_count": 24,
     "metadata": {},
     "output_type": "execute_result"
    }
   ],
   "source": [
    "t= np.array([[[1,2,3,4],[5,6,7,8]],[[9,10,11,12],[13,14,15,16]] , [[1,2,3,4], [5,6,7,8]]])\n",
    "t"
   ]
  },
  {
   "cell_type": "markdown",
   "id": "1b95f933",
   "metadata": {},
   "source": [
    "# initialize different types of arrays "
   ]
  },
  {
   "cell_type": "code",
   "execution_count": 25,
   "id": "44257d5c",
   "metadata": {},
   "outputs": [
    {
     "name": "stdout",
     "output_type": "stream",
     "text": [
      "[[0. 0. 0. 0.]\n",
      " [0. 0. 0. 0.]\n",
      " [0. 0. 0. 0.]]\n"
     ]
    },
    {
     "data": {
      "text/plain": [
       "array([[[[0., 0., 0., 0., 0.],\n",
       "         [0., 0., 0., 0., 0.],\n",
       "         [0., 0., 0., 0., 0.],\n",
       "         [0., 0., 0., 0., 0.]],\n",
       "\n",
       "        [[0., 0., 0., 0., 0.],\n",
       "         [0., 0., 0., 0., 0.],\n",
       "         [0., 0., 0., 0., 0.],\n",
       "         [0., 0., 0., 0., 0.]],\n",
       "\n",
       "        [[0., 0., 0., 0., 0.],\n",
       "         [0., 0., 0., 0., 0.],\n",
       "         [0., 0., 0., 0., 0.],\n",
       "         [0., 0., 0., 0., 0.]]],\n",
       "\n",
       "\n",
       "       [[[0., 0., 0., 0., 0.],\n",
       "         [0., 0., 0., 0., 0.],\n",
       "         [0., 0., 0., 0., 0.],\n",
       "         [0., 0., 0., 0., 0.]],\n",
       "\n",
       "        [[0., 0., 0., 0., 0.],\n",
       "         [0., 0., 0., 0., 0.],\n",
       "         [0., 0., 0., 0., 0.],\n",
       "         [0., 0., 0., 0., 0.]],\n",
       "\n",
       "        [[0., 0., 0., 0., 0.],\n",
       "         [0., 0., 0., 0., 0.],\n",
       "         [0., 0., 0., 0., 0.],\n",
       "         [0., 0., 0., 0., 0.]]]])"
      ]
     },
     "execution_count": 25,
     "metadata": {},
     "output_type": "execute_result"
    }
   ],
   "source": [
    "# all zeroes matrix\n",
    "z= np.zeros((3, 4))  # 3 rows and 4 columns\n",
    "# this will create a 2D array with 3 rows and 4 columns filled with zeros\n",
    "\n",
    "print(z)\n",
    "\n",
    "# toy can use in in all shapes, like 3D, 4D, etc.\n",
    "l=np.zeros((2, 3, 4,5))  # 2 blocks, 3 rows and 4 columns\n",
    "# this will create a 3D array with 2 blocks, each block has 3 rows and 4 columns filled with zeros\n",
    "\n",
    "#Breaking down the shape (2, 3, 4, 5):\n",
    "#1st dim = 2 → number of “big blocks” (think of it like 2 cubes)\n",
    "\n",
    "#2nd dim = 3 → each block has 3 layers\n",
    "\n",
    "#3rd dim = 4 → each layer has 4 rows\n",
    "\n",
    "#4th dim = 5 → each row has 5 columns\n",
    "\n",
    "#So the total number of elements = 2 × 3 × 4 × 5 = 120 zeros.\n",
    "\n",
    "l"
   ]
  },
  {
   "cell_type": "code",
   "execution_count": 26,
   "id": "6cca3ba2",
   "metadata": {},
   "outputs": [
    {
     "name": "stdout",
     "output_type": "stream",
     "text": [
      "[[1. 1. 1. 1.]\n",
      " [1. 1. 1. 1.]\n",
      " [1. 1. 1. 1.]]\n"
     ]
    },
    {
     "data": {
      "text/plain": [
       "array([[1, 1, 1, 1],\n",
       "       [1, 1, 1, 1],\n",
       "       [1, 1, 1, 1]], dtype=int8)"
      ]
     },
     "execution_count": 26,
     "metadata": {},
     "output_type": "execute_result"
    }
   ],
   "source": [
    "# all ones matrix\n",
    "o= np.ones((3, 4))  # 3 rows and 4 columns\n",
    "# this will create a 2D array with 3 rows and 4 columns filled with ones\n",
    "print(o)\n",
    "\n",
    "# you can also specify the data type when creating the array\n",
    "o_float = np.ones((3, 4), dtype=np.int8)\n",
    "o_float"
   ]
  },
  {
   "cell_type": "code",
   "execution_count": 27,
   "id": "a59066b1",
   "metadata": {},
   "outputs": [
    {
     "name": "stdout",
     "output_type": "stream",
     "text": [
      "[[7 7 7]\n",
      " [7 7 7]]\n"
     ]
    }
   ],
   "source": [
    "# any other array can be created using the same method\n",
    "# for example, you can create an array of random numbers, or an array of a specific value\n",
    "# you can use np.full() to create an array filled with a specific value\n",
    "full_array = np.full((2, 3), 7)  # 2 rows and 3 columns filled with 7\n",
    "print(full_array)"
   ]
  },
  {
   "cell_type": "code",
   "execution_count": 28,
   "id": "83e58048",
   "metadata": {},
   "outputs": [
    {
     "data": {
      "text/plain": [
       "array([[[5, 5, 5, 5],\n",
       "        [5, 5, 5, 5]],\n",
       "\n",
       "       [[5, 5, 5, 5],\n",
       "        [5, 5, 5, 5]],\n",
       "\n",
       "       [[5, 5, 5, 5],\n",
       "        [5, 5, 5, 5]]])"
      ]
     },
     "execution_count": 28,
     "metadata": {},
     "output_type": "execute_result"
    }
   ],
   "source": [
    "# fill_like \n",
    "# if i want to modify an existing array to have same num \n",
    "np.full(l.shape, 5)  # this will create an array with the same shape as l filled with 5\n",
    "# so if l is a 3D array with shape (2, 3, 4, 5), it will create an array with the same shape filled with 5\n",
    "# this is useful when you want to create an array with the same shape as another array but with different values\n",
    "np.full_like(t, 5)\n"
   ]
  },
  {
   "cell_type": "code",
   "execution_count": 29,
   "id": "b40dd5c6",
   "metadata": {},
   "outputs": [
    {
     "data": {
      "text/plain": [
       "array([[[0.21988212, 0.21012009, 0.12974286, 0.79480223],\n",
       "        [0.37959198, 0.91461495, 0.39207257, 0.93232593]],\n",
       "\n",
       "       [[0.84734484, 0.02363474, 0.89931144, 0.96235288],\n",
       "        [0.60344794, 0.13362412, 0.68829348, 0.93025742]],\n",
       "\n",
       "       [[0.08459535, 0.67885452, 0.39002916, 0.73270762],\n",
       "        [0.11036042, 0.13417752, 0.93054768, 0.56543055]]])"
      ]
     },
     "execution_count": 29,
     "metadata": {},
     "output_type": "execute_result"
    }
   ],
   "source": [
    "# random decimal numbers\n",
    "np.random.rand(2, 3)  # 2 rows and 3 columns filled with random numbers between 0 and 1\n",
    "# this will create a 2D array with 2 rows and 3 columns filled with random numbers between 0 and 1\n",
    "# you can also specify the data type when creating the array\n",
    "\n",
    "np.random.random_sample(t.shape)"
   ]
  },
  {
   "cell_type": "code",
   "execution_count": 30,
   "id": "2b5f3e7e",
   "metadata": {},
   "outputs": [
    {
     "data": {
      "text/plain": [
       "array([[5, 5, 7],\n",
       "       [5, 5, 4]], dtype=int32)"
      ]
     },
     "execution_count": 30,
     "metadata": {},
     "output_type": "execute_result"
    }
   ],
   "source": [
    "# random integers\n",
    "np.random.randint(4,10, size=(2, 3)) # random nymbers between 4 and 10, with shape (2, 3)\n",
    "# this will create a 2D array with 2 rows and 3 columns filled with random integers between 4 and 10\n",
    "# you can also specify the data type when creating the array\n",
    "\n"
   ]
  },
  {
   "cell_type": "code",
   "execution_count": 31,
   "id": "26681d51",
   "metadata": {},
   "outputs": [
    {
     "data": {
      "text/plain": [
       "array([[1., 0., 0.],\n",
       "       [0., 1., 0.],\n",
       "       [0., 0., 1.]])"
      ]
     },
     "execution_count": 31,
     "metadata": {},
     "output_type": "execute_result"
    }
   ],
   "source": [
    "# we can also make identity matrix \n",
    "np.identity(3)  # 3x3 identity matrix\n",
    "# this will create a 2D array with 3 rows and 3 columns filled with ones on the diagonal and zeros elsewhere\n",
    "# it is useful in linear algebra and matrix operations\n",
    "# you can also specify the data type when creating the array\n"
   ]
  },
  {
   "cell_type": "code",
   "execution_count": 32,
   "id": "b43d3fdb",
   "metadata": {},
   "outputs": [
    {
     "data": {
      "text/plain": [
       "array([[[ 1,  2,  3,  4],\n",
       "        [ 1,  2,  3,  4],\n",
       "        [ 1,  2,  3,  4],\n",
       "        [ 5,  6,  7,  8],\n",
       "        [ 5,  6,  7,  8],\n",
       "        [ 5,  6,  7,  8]],\n",
       "\n",
       "       [[ 9, 10, 11, 12],\n",
       "        [ 9, 10, 11, 12],\n",
       "        [ 9, 10, 11, 12],\n",
       "        [13, 14, 15, 16],\n",
       "        [13, 14, 15, 16],\n",
       "        [13, 14, 15, 16]],\n",
       "\n",
       "       [[ 1,  2,  3,  4],\n",
       "        [ 1,  2,  3,  4],\n",
       "        [ 1,  2,  3,  4],\n",
       "        [ 5,  6,  7,  8],\n",
       "        [ 5,  6,  7,  8],\n",
       "        [ 5,  6,  7,  8]]])"
      ]
     },
     "execution_count": 32,
     "metadata": {},
     "output_type": "execute_result"
    }
   ],
   "source": [
    "# to repeat an array \n",
    "y=np.array([1, 2, 3])\n",
    "# to repeat the array 3 times\n",
    "np.repeat(t,3 , axis=1) "
   ]
  },
  {
   "cell_type": "code",
   "execution_count": 33,
   "id": "981dc63a",
   "metadata": {},
   "outputs": [
    {
     "name": "stdout",
     "output_type": "stream",
     "text": [
      "[[1. 1. 1. 1. 1.]\n",
      " [1. 0. 0. 0. 1.]\n",
      " [1. 0. 9. 0. 1.]\n",
      " [1. 0. 0. 0. 1.]\n",
      " [1. 1. 1. 1. 1.]]\n",
      "[[0. 0. 0.]\n",
      " [0. 9. 0.]\n",
      " [0. 0. 0.]]\n",
      "[[1. 1. 1. 1. 1.]\n",
      " [1. 0. 0. 0. 1.]\n",
      " [1. 0. 9. 0. 1.]\n",
      " [1. 0. 0. 0. 1.]\n",
      " [1. 1. 1. 1. 1.]]\n",
      "[[ True  True  True  True  True]\n",
      " [ True  True  True  True  True]\n",
      " [ True  True  True  True  True]\n",
      " [ True  True  True  True  True]\n",
      " [ True  True  True  True  True]]\n"
     ]
    }
   ],
   "source": [
    "mat= np.ones((5, 5))  \n",
    "mat[1:4,1:4]=0\n",
    "mat[2,2]=9\n",
    "\n",
    "print(mat)\n",
    "\n",
    "\n",
    "#Also \n",
    "\n",
    "out= np.ones((5, 5))  \n",
    "z=np.zeros((3, 3))\n",
    "z[1,1]=9\n",
    "print(z)\n",
    "out[1:4,1:4]=z\n",
    "print(out)\n",
    "\n",
    "print(mat==out)"
   ]
  },
  {
   "cell_type": "markdown",
   "id": "8e9cbf18",
   "metadata": {},
   "source": [
    "Beeee careful when copies an array!!!!!!!!!!!!!!!"
   ]
  },
  {
   "cell_type": "code",
   "execution_count": 34,
   "id": "8664b9c3",
   "metadata": {},
   "outputs": [
    {
     "name": "stdout",
     "output_type": "stream",
     "text": [
      "[100   2   3   4   5]\n",
      "[100   2   3   4   5]\n",
      "[200   2   3   4   5]\n"
     ]
    }
   ],
   "source": [
    "a=np.array([1, 2, 3, 4, 5])\n",
    "# Beeee careful when copies an array!!!!!!!!!!!!!!!\n",
    "b=a\n",
    "b[0]=100\n",
    "print(a)\n",
    "\n",
    "# that is becuase that two arrays are pointing to the same memory location\n",
    "# so if you change one, the other will change too\n",
    "# if you want to create a copy of the array, you can use the copy() method\n",
    "\n",
    "b = a.copy()\n",
    "b[0] = 200\n",
    "print(a)\n",
    "print(b)"
   ]
  },
  {
   "cell_type": "markdown",
   "id": "7d316178",
   "metadata": {},
   "source": [
    "# Mathematcial operations"
   ]
  },
  {
   "cell_type": "markdown",
   "id": "fd54f1c7",
   "metadata": {},
   "source": [
    "- one of the big uses of NumPy is all the mathematical cabilities that it offer"
   ]
  },
  {
   "cell_type": "code",
   "execution_count": 35,
   "id": "37eb4c27",
   "metadata": {},
   "outputs": [
    {
     "name": "stdout",
     "output_type": "stream",
     "text": [
      "[1 2 3 4 5]\n"
     ]
    }
   ],
   "source": [
    "a=np.array([1, 2, 3, 4, 5])\n",
    "print(a)"
   ]
  },
  {
   "cell_type": "code",
   "execution_count": 36,
   "id": "c7da512b",
   "metadata": {},
   "outputs": [
    {
     "data": {
      "text/plain": [
       "array([3, 4, 5, 6, 7])"
      ]
     },
     "execution_count": 36,
     "metadata": {},
     "output_type": "execute_result"
    }
   ],
   "source": [
    "a+2\n",
    "\n",
    "\n",
    "# we add 2 to all elements in the array\n",
    "# it will return a new array with the same shape as the original array but with all elements increased by 2\n",
    "# so it will return [3, 4, 5, 6, 7]"
   ]
  },
  {
   "cell_type": "code",
   "execution_count": 37,
   "id": "821eb201",
   "metadata": {},
   "outputs": [
    {
     "name": "stdout",
     "output_type": "stream",
     "text": [
      "[-1  0  1  2  3]\n",
      "[1 2 3 4 5]\n"
     ]
    }
   ],
   "source": [
    "print(a-2 )\n",
    "# this will subtract 2 from all elements in the array\n",
    "# look here that all those opwerations doesn't change the original array'ArithmeticError\n",
    "print(a)"
   ]
  },
  {
   "cell_type": "code",
   "execution_count": 38,
   "id": "cf1e8298",
   "metadata": {},
   "outputs": [
    {
     "name": "stdout",
     "output_type": "stream",
     "text": [
      "[ 2  4  6  8 10]\n",
      "[0.5 1.  1.5 2.  2.5]\n"
     ]
    }
   ],
   "source": [
    "print(a*2)\n",
    "print(a/2)\n"
   ]
  },
  {
   "cell_type": "code",
   "execution_count": 39,
   "id": "e455bdab",
   "metadata": {},
   "outputs": [
    {
     "name": "stdout",
     "output_type": "stream",
     "text": [
      "[3 4 5 6 7]\n"
     ]
    }
   ],
   "source": [
    "#but when will you change the original array? when use assiment operators like +=, -=, *=, /=, etc.\n",
    "a += 2\n",
    "print(a)\n",
    "# this will add 2 to all elements in the array and change the original array\n",
    "# so it will return [3, 4, 5, 6, 7]"
   ]
  },
  {
   "cell_type": "code",
   "execution_count": 40,
   "id": "91fa81ed",
   "metadata": {},
   "outputs": [
    {
     "name": "stdout",
     "output_type": "stream",
     "text": [
      "[3 4 5 6 7]\n",
      "[5 6 7 8 9]\n",
      "[3 4 5 6 7]\n"
     ]
    }
   ],
   "source": [
    "print(a)\n",
    "print(a+2)\n",
    "print(a)"
   ]
  },
  {
   "cell_type": "code",
   "execution_count": 41,
   "id": "21576b6d",
   "metadata": {},
   "outputs": [
    {
     "data": {
      "text/plain": [
       "array([ 4,  6,  8, 10, 12])"
      ]
     },
     "execution_count": 41,
     "metadata": {},
     "output_type": "execute_result"
    }
   ],
   "source": [
    "# you can also \n",
    "b= np.array([1, 2, 3, 4, 5])\n",
    "a+b"
   ]
  },
  {
   "cell_type": "code",
   "execution_count": 42,
   "id": "4aa9bb40",
   "metadata": {},
   "outputs": [
    {
     "data": {
      "text/plain": [
       "array([ 9, 16, 25, 36, 49])"
      ]
     },
     "execution_count": 42,
     "metadata": {},
     "output_type": "execute_result"
    }
   ],
   "source": [
    "a**2"
   ]
  },
  {
   "cell_type": "code",
   "execution_count": 43,
   "id": "9f132586",
   "metadata": {},
   "outputs": [
    {
     "name": "stdout",
     "output_type": "stream",
     "text": [
      "[ 0.14112001 -0.7568025  -0.95892427 -0.2794155   0.6569866 ]\n",
      "[3 4 5 6 7]\n"
     ]
    }
   ],
   "source": [
    "# take sin \n",
    "print (np.sin(a))\n",
    "# this will take the sine of all elements in the array\n",
    "# it will return a new array with the same shape as the original array but with all elements replaced by their sine values\n",
    "# so it will return [0.14112001, 0.90929743, 0.14112001, -0.7568025 , -0.95892427]\n",
    "print(a)"
   ]
  },
  {
   "cell_type": "markdown",
   "id": "f416fc5e",
   "metadata": {},
   "source": [
    "# Linear Algebra stuff"
   ]
  },
  {
   "cell_type": "code",
   "execution_count": 44,
   "id": "3562188c",
   "metadata": {},
   "outputs": [
    {
     "name": "stdout",
     "output_type": "stream",
     "text": [
      "[[1 1 1]\n",
      " [1 1 1]]\n",
      "[[2 2]\n",
      " [2 2]\n",
      " [2 2]]\n"
     ]
    },
    {
     "data": {
      "text/plain": [
       "array([[6, 6],\n",
       "       [6, 6]])"
      ]
     },
     "execution_count": 44,
     "metadata": {},
     "output_type": "execute_result"
    }
   ],
   "source": [
    "# lets's say we have two matrices\n",
    "a=np.ones((2, 3),dtype=\"int8\")  # 2x2 matrix filled with ones\n",
    "\n",
    "print(a)\n",
    "\n",
    "b=np.full((3, 2), 2)  # 2x2 matrix filled with twos\n",
    "print(b)\n",
    "\n",
    "# a*b will not work because the shapes are not compatible\n",
    "\n",
    "# but we can use : \n",
    "np.matmul(a,b)"
   ]
  },
  {
   "cell_type": "code",
   "execution_count": 45,
   "id": "2b3f6650",
   "metadata": {},
   "outputs": [
    {
     "data": {
      "text/plain": [
       "np.float64(1.0)"
      ]
     },
     "execution_count": 45,
     "metadata": {},
     "output_type": "execute_result"
    }
   ],
   "source": [
    "c=np.identity(3)\n",
    "np.linalg.det(c) \n",
    "# this will calculate the determinant of the matrix c\n",
    "# it will return 1.0 because the determinant of an identity matrix is always 1\n",
    "# you can also use np.linalg.inv(c) to calculate the inverse of the matrix c\n",
    "# it will return the same matrix because the inverse of an identity matrix is always the identity matrix"
   ]
  },
  {
   "cell_type": "markdown",
   "id": "70b5f89b",
   "metadata": {},
   "source": [
    "# Stat"
   ]
  },
  {
   "cell_type": "code",
   "execution_count": 46,
   "id": "641bf9e9",
   "metadata": {},
   "outputs": [
    {
     "name": "stdout",
     "output_type": "stream",
     "text": [
      "1\n",
      "[1 2]\n",
      "[1 3]\n",
      "[3 4]\n",
      "[2 4]\n"
     ]
    }
   ],
   "source": [
    "a= np.array([[1, 2], [3, 4]])\n",
    "print(np.min(a))\n",
    "print(np.min(a, axis=0))  # minimum of each column\n",
    "print(np.min(a, axis=1))  # minimum of each row\n",
    "\n",
    "print(np.max(a, axis=0))  # minimum of each column\n",
    "print(np.max(a, axis=1))  # minimum of each row\n",
    "# this will return the minimum value of each column and each row respectively\n"
   ]
  },
  {
   "cell_type": "code",
   "execution_count": 47,
   "id": "355a8cee",
   "metadata": {},
   "outputs": [
    {
     "data": {
      "text/plain": [
       "np.int64(4)"
      ]
     },
     "execution_count": 47,
     "metadata": {},
     "output_type": "execute_result"
    }
   ],
   "source": [
    "np.max(a)"
   ]
  },
  {
   "cell_type": "code",
   "execution_count": 48,
   "id": "3317531a",
   "metadata": {},
   "outputs": [
    {
     "name": "stdout",
     "output_type": "stream",
     "text": [
      "10\n",
      "[4 6]\n",
      "[3 7]\n"
     ]
    }
   ],
   "source": [
    "print(np.sum(a) ) # sum of all elements in the array)\n",
    "print(np.sum(a, axis=0))  # sum of each column\n",
    "print(np.sum(a, axis=1))  # sum of each row\n",
    "# this will return the sum of all elements in the array, the sum of each column and the sum of each row respectively"
   ]
  },
  {
   "cell_type": "markdown",
   "id": "9ba1ed55",
   "metadata": {},
   "source": [
    "# Reorganizing Arrays"
   ]
  },
  {
   "cell_type": "code",
   "execution_count": 55,
   "id": "df994470",
   "metadata": {},
   "outputs": [
    {
     "name": "stdout",
     "output_type": "stream",
     "text": [
      "(2, 5)\n",
      "[[ 1  2]\n",
      " [ 3  4]\n",
      " [ 5  6]\n",
      " [ 7  8]\n",
      " [ 9 10]]\n",
      "[[ 1]\n",
      " [ 2]\n",
      " [ 3]\n",
      " [ 4]\n",
      " [ 5]\n",
      " [ 6]\n",
      " [ 7]\n",
      " [ 8]\n",
      " [ 9]\n",
      " [10]]\n"
     ]
    }
   ],
   "source": [
    "before= np.array([[1,2,3,4,5],[6,7,8,9,10]])\n",
    "print(before.shape)\n",
    "\n",
    "after= before.reshape(5,2)\n",
    "print(after)\n",
    "after= before.reshape(10,1)\n",
    "print(after)        \n",
    "\n",
    "# here we have 10 elements in the array, so we can reshape it to any shape that has 10 elements\n",
    "# for example, we can reshape it to (5, 2) or (10, 1) or (2, 5) or (1, 10)\n",
    "# but we cannot reshape it to (3, 4) because it has 12 elements and the original array has only 10 elements\n",
    "# so the shape must be compatible with the number of elements in the array\n",
    "\n"
   ]
  },
  {
   "cell_type": "markdown",
   "id": "e1fe6802",
   "metadata": {},
   "source": [
    "# Vertically Stacking Vectors"
   ]
  },
  {
   "cell_type": "code",
   "execution_count": 62,
   "id": "d6b082fc",
   "metadata": {},
   "outputs": [
    {
     "data": {
      "text/plain": [
       "array([[1, 2, 3],\n",
       "       [4, 5, 6],\n",
       "       [1, 2, 3],\n",
       "       [4, 5, 6]])"
      ]
     },
     "execution_count": 62,
     "metadata": {},
     "output_type": "execute_result"
    }
   ],
   "source": [
    "v1= np.array([1, 2, 3])\n",
    "v2= np.array([4, 5, 6])\n",
    "\n",
    "np.vstack((v1, v2,v1,v2))\n",
    "# this will stack the two vectors vertically, creating a 2D array with 2 rows and 3 columns\n",
    "# so it will return [[1, 2, 3], [4, 5, 6]]\n",
    "\n",
    "\n",
    "# note vectors mus t have the same number of elements to be stacked vertically\n",
    "# if they have different number of elements, it will raise an error\n",
    "# for example, if we try to stack v1 and v2 with different number of elements, it will raise an error\n",
    "# so we have to make sure that the vectors have the same number of elements before stacking them vertically\n"
   ]
  },
  {
   "cell_type": "markdown",
   "id": "27c08aca",
   "metadata": {},
   "source": [
    "- why Iportant?? \n",
    "\n",
    "\n",
    "Why it’s important:\n",
    "Turning several 1D arrays into a table\n",
    "\n",
    "If you have multiple result vectors (like measurements from different experiments), vstack turns them into rows in a single 2D dataset.\n",
    "\n",
    "Batching data\n",
    "\n",
    "In ML or image processing, each sample might be a vector. You can stack samples into a matrix for training.\n",
    "\n",
    "Merging results from loops\n",
    "\n",
    "If you generate arrays in a loop, vstack lets you combine them easily without manually reshaping.\n",
    "\n"
   ]
  },
  {
   "cell_type": "code",
   "execution_count": 63,
   "id": "e4688055",
   "metadata": {},
   "outputs": [
    {
     "data": {
      "text/plain": [
       "array([1, 2, 3, 4, 5, 6])"
      ]
     },
     "execution_count": 63,
     "metadata": {},
     "output_type": "execute_result"
    }
   ],
   "source": [
    "# horizontally stacking vectors\n",
    "np.hstack((v1, v2))\n",
    "# this will stack the two vectors horizontally, creating a 1D array with 6 elements\n",
    "# so it will return [1, 2, 3, 4, 5, 6]"
   ]
  },
  {
   "cell_type": "markdown",
   "id": "3d4c21ac",
   "metadata": {},
   "source": [
    "# Miscellaneous "
   ]
  },
  {
   "cell_type": "markdown",
   "id": "e38e3527",
   "metadata": {},
   "source": [
    "load data from files \n"
   ]
  },
  {
   "cell_type": "markdown",
   "id": "f1e7f868",
   "metadata": {},
   "source": [
    "-  if you have some sort of data like txt and you don't want to use pandas but you want to loud all data from txt inro np array "
   ]
  },
  {
   "cell_type": "code",
   "execution_count": 66,
   "id": "f34f3bea",
   "metadata": {},
   "outputs": [
    {
     "name": "stdout",
     "output_type": "stream",
     "text": [
      "[[  1  13  21  11 196  75   4   3  34   6   7   8   0   1   2   3   4   5]\n",
      " [  3  42  12  33 766  75   4  55   6   4   3   4   5   6   7   0  11  12]\n",
      " [  1  22  33  11 999  11   2   1  78   0   1   2   9   8   7   1  76  88]]\n"
     ]
    }
   ],
   "source": [
    "file= np.genfromtxt('data.txt', delimiter=',',dtype=\"int16\")  # load data from a text file with comma as delimiter\n",
    "print(file)"
   ]
  },
  {
   "cell_type": "markdown",
   "id": "a99cd94f",
   "metadata": {},
   "source": [
    "# advanced indixing"
   ]
  },
  {
   "cell_type": "markdown",
   "id": "bd1ac627",
   "metadata": {},
   "source": [
    "- boolean masking and advanced indexing"
   ]
  },
  {
   "cell_type": "code",
   "execution_count": 70,
   "id": "27d68829",
   "metadata": {},
   "outputs": [
    {
     "data": {
      "text/plain": [
       "array([196,  75, 766,  75,  55, 999,  78,  76,  88], dtype=int16)"
      ]
     },
     "execution_count": 70,
     "metadata": {},
     "output_type": "execute_result"
    }
   ],
   "source": [
    "file>50\n",
    "\n",
    "# we can index file with a boolean mask\n",
    "# this will return a new array with the same shape as the original array but with only the elements that are greater than 50\n",
    "# so it will return an array with all elements that are greater than 50\n",
    "file[file > 50]"
   ]
  },
  {
   "cell_type": "code",
   "execution_count": 73,
   "id": "ee9f06df",
   "metadata": {},
   "outputs": [
    {
     "data": {
      "text/plain": [
       "array([2, 6, 3, 9])"
      ]
     },
     "execution_count": 73,
     "metadata": {},
     "output_type": "execute_result"
    }
   ],
   "source": [
    "# you can index with list in numpy\n",
    "a= np.array([1,2,3,4,5, 6,7,8,9,10])\n",
    "a[[1,5,2,8]]"
   ]
  },
  {
   "cell_type": "code",
   "execution_count": 74,
   "id": "e0f7aff9",
   "metadata": {},
   "outputs": [
    {
     "data": {
      "text/plain": [
       "array([False, False, False, False,  True,  True, False,  True,  True,\n",
       "       False, False, False, False, False, False, False,  True,  True])"
      ]
     },
     "execution_count": 74,
     "metadata": {},
     "output_type": "execute_result"
    }
   ],
   "source": [
    "# we want to know if any num in volumn in file is greater than 50\n",
    "np.any(file >50 , axis = 0)"
   ]
  },
  {
   "cell_type": "code",
   "execution_count": 75,
   "id": "b8961e5e",
   "metadata": {},
   "outputs": [
    {
     "data": {
      "text/plain": [
       "array([False, False, False, False,  True, False, False, False, False,\n",
       "       False, False, False, False, False, False, False, False, False])"
      ]
     },
     "execution_count": 75,
     "metadata": {},
     "output_type": "execute_result"
    }
   ],
   "source": [
    "# we can aslo check is all column is greater than 50\n",
    "np.all(file >50 , axis = 0)\n",
    "# this will return True if all elements in the column are greater than 50, otherwise it will return False"
   ]
  },
  {
   "cell_type": "code",
   "execution_count": 99,
   "id": "91c86e35",
   "metadata": {},
   "outputs": [
    {
     "data": {
      "text/plain": [
       "array([False, False, False, False, False, False, False, False, False,\n",
       "       False, False, False, False, False, False, False, False, False])"
      ]
     },
     "execution_count": 99,
     "metadata": {},
     "output_type": "execute_result"
    }
   ],
   "source": [
    "# we can have also multiple conditions\n",
    "np.all(file >50 , axis = 0) & np.any(file < 100, axis = 0)\n",
    "# this will return True if all elements in the column are greater than 50 and any element in the column is less than 100, otherwise it will return False\n",
    "# you can use any combination of conditions using & (and) and | (or) operators  "
   ]
  },
  {
   "cell_type": "code",
   "execution_count": 109,
   "id": "0fa570ed",
   "metadata": {},
   "outputs": [
    {
     "name": "stdout",
     "output_type": "stream",
     "text": [
      "[[ 1  2  3  4  5]\n",
      " [ 6  7  8  9 10]\n",
      " [11 12 13 14 15]\n",
      " [16 17 18 19 20]\n",
      " [21 22 23 24 25]\n",
      " [26 27 28 29 30]]\n",
      "\n",
      "\n",
      "[ 2  8 14 20]\n",
      "\n",
      "\n",
      "[[ 4  5]\n",
      " [24 25]\n",
      " [29 30]]\n"
     ]
    }
   ],
   "source": [
    "a=np.arange(1,31).reshape(6,5)\n",
    "print(a)\n",
    "\n",
    "print(\"\\n\")\n",
    "\n",
    "print(a[[0,1,2,3],[1,2,3,4]])\n",
    "\n",
    "\n",
    "print(\"\\n\")\n",
    "\n",
    "print(a[[0,4,5],3:])"
   ]
  },
  {
   "cell_type": "code",
   "execution_count": 112,
   "id": "bf3c9e20",
   "metadata": {},
   "outputs": [
    {
     "name": "stdout",
     "output_type": "stream",
     "text": [
      "[0.0e+000 4.9e-324 9.9e-324 1.5e-323 2.0e-323]\n"
     ]
    }
   ],
   "source": [
    "# Create an empty array with 5 elements(from the memory)\n",
    "print(np.empty((5,)))"
   ]
  },
  {
   "cell_type": "code",
   "execution_count": 113,
   "id": "aedb0dcc",
   "metadata": {},
   "outputs": [
    {
     "data": {
      "text/plain": [
       "array([10, 15, 20, 25])"
      ]
     },
     "execution_count": 113,
     "metadata": {},
     "output_type": "execute_result"
    }
   ],
   "source": [
    "A = np.arange(10, 30, 5) #the same as range function(start , end+1 , step)\n",
    "A"
   ]
  },
  {
   "cell_type": "code",
   "execution_count": 114,
   "id": "35c04e97",
   "metadata": {},
   "outputs": [
    {
     "name": "stdout",
     "output_type": "stream",
     "text": [
      "[0 1 2 3 4 5 6 7 8 9]\n"
     ]
    }
   ],
   "source": [
    "r = np.arange(10)  #(0,10,1)\n",
    "print(r)"
   ]
  },
  {
   "cell_type": "code",
   "execution_count": 115,
   "id": "74a05f57",
   "metadata": {},
   "outputs": [
    {
     "data": {
      "text/plain": [
       "array([0. , 0.3, 0.6, 0.9, 1.2, 1.5, 1.8])"
      ]
     },
     "execution_count": 115,
     "metadata": {},
     "output_type": "execute_result"
    }
   ],
   "source": [
    "B = np.arange(0, 2, 0.3)\n",
    "B"
   ]
  },
  {
   "cell_type": "markdown",
   "id": "6d5a6c87",
   "metadata": {},
   "source": [
    "It is generally not possible to predict the number of elements obtained\n",
    "It is usually better to use the function \"linspace\" that receives as an argument the number of elements that we want, instead of the step.It creates an array with values that are spaced linearly in a specified interval:\n",
    "\n",
    "\n",
    "start → first number\n",
    "\n",
    "stop → last number\n",
    "\n",
    "num → how many values to generate (default = 50)"
   ]
  },
  {
   "cell_type": "code",
   "execution_count": 116,
   "id": "36adb5c4",
   "metadata": {},
   "outputs": [
    {
     "name": "stdout",
     "output_type": "stream",
     "text": [
      "[0.   0.25 0.5  0.75 1.   1.25 1.5  1.75 2.  ]\n"
     ]
    }
   ],
   "source": [
    "x= np.linspace(0, 2, num=9) #(start, end , number of elements)\n",
    "print(x)"
   ]
  },
  {
   "cell_type": "code",
   "execution_count": 117,
   "id": "ef472245",
   "metadata": {},
   "outputs": [
    {
     "name": "stdout",
     "output_type": "stream",
     "text": [
      "[10. 20. 30. 40. 50.]\n"
     ]
    }
   ],
   "source": [
    "w = np.linspace(10, 50, 5)\n",
    "print(w)"
   ]
  },
  {
   "cell_type": "code",
   "execution_count": null,
   "id": "46dc1844",
   "metadata": {},
   "outputs": [],
   "source": [
    "np.linspace(10 ,30) #number of elements = 50 \n"
   ]
  },
  {
   "cell_type": "code",
   "execution_count": 118,
   "id": "8947f48a",
   "metadata": {},
   "outputs": [
    {
     "data": {
      "text/plain": [
       "array([], dtype=int64)"
      ]
     },
     "execution_count": 118,
     "metadata": {},
     "output_type": "execute_result"
    }
   ],
   "source": [
    "np.arange(1,30,-1)"
   ]
  },
  {
   "cell_type": "code",
   "execution_count": null,
   "id": "93c2c752",
   "metadata": {},
   "outputs": [],
   "source": [
    "np.arange(30,2,-1)"
   ]
  },
  {
   "cell_type": "markdown",
   "id": "d19f7918",
   "metadata": {},
   "source": [
    "The key difference is the **starting point, stopping point, and step sign**.\n",
    "\n",
    "---\n",
    "\n",
    "### 1️⃣ `np.arange(1, 30, -1)`\n",
    "\n",
    "* Start: `1`\n",
    "* Stop: `30`\n",
    "* Step: `-1` (negative step means counting **down**)\n",
    "* Problem: You’re trying to **count down** starting from `1` toward `30`.\n",
    "  But `1` is already **less than** `30`, so NumPy can’t take even the **first step** — result is an **empty array** `[]`.\n",
    "\n",
    "---\n",
    "\n",
    "### 2️⃣ `np.arange(30, 2, -1)`\n",
    "\n",
    "* Start: `30`\n",
    "* Stop: `2`\n",
    "* Step: `-1`\n",
    "* Works fine: starts at `30`, subtracts `1` each step, stops *before* `2`.\n",
    "\n",
    "Example:\n",
    "\n",
    "```python\n",
    "import numpy as np\n",
    "print(np.arange(30, 2, -1))\n",
    "```\n",
    "\n",
    "Output:\n",
    "\n",
    "```\n",
    "[30 29 28 ... 5 4 3]\n",
    "```\n",
    "\n",
    "---\n",
    "\n",
    "### 📏 Rule of thumb:\n",
    "\n",
    "* If **step > 0**, then `start < stop` (count up)\n",
    "* If **step < 0**, then `start > stop` (count down)\n",
    "\n",
    "If you break that rule (like `np.arange(1, 30, -1)`), you get an empty array.\n",
    "\n",
    "---\n",
    "\n",
    "If you want, I can show you **a visual timeline** of how NumPy fills values for positive and negative steps — it makes this 100% clear in one picture.\n"
   ]
  },
  {
   "cell_type": "code",
   "execution_count": null,
   "id": "72fecda1",
   "metadata": {},
   "outputs": [],
   "source": []
  }
 ],
 "metadata": {
  "kernelspec": {
   "display_name": "Python 3",
   "language": "python",
   "name": "python3"
  },
  "language_info": {
   "codemirror_mode": {
    "name": "ipython",
    "version": 3
   },
   "file_extension": ".py",
   "mimetype": "text/x-python",
   "name": "python",
   "nbconvert_exporter": "python",
   "pygments_lexer": "ipython3",
   "version": "3.12.10"
  }
 },
 "nbformat": 4,
 "nbformat_minor": 5
}
